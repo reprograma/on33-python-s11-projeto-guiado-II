{
 "cells": [
  {
   "cell_type": "markdown",
   "metadata": {},
   "source": [
    "## Dados Globais de Violência Contra Mulheres"
   ]
  },
  {
   "cell_type": "markdown",
   "metadata": {},
   "source": [
    "### Introdução\n",
    "\n",
    "Em dezembro de 2006, a Assembleia Geral das Nações Unidas adotou uma resolução para intensificar os esforços na eliminação da violência contra as mulheres e solicitou a criação de um banco de dados sobre o tema. Este banco de dados foi lançado em 2009 como “Banco de Dados do Secretário-Geral da ONU sobre Violência contra as Mulheres”. \n",
    "\n",
    "Em 2016, com a adoção da Agenda 2030 para o Desenvolvimento Sustentável, a ONU Mulheres relançou o banco de dados como “Banco de Dados Global sobre Violência contra as Mulheres”. \n",
    "\n",
    "Em 2024, o banco de dados foi redesenhado para facilitar a navegação dos usuários.\n",
    "\n",
    "O banco de dados inclui informações de 193 Estados-membros da ONU, cada um relatando pelo menos uma medida de combate à violência contra as mulheres. A violência contra as mulheres é definida pela ONU como qualquer ato de violência baseado no gênero que cause ou possa causar dano físico, sexual ou psicológico às mulheres.\n",
    "\n",
    "São 193 Estados-membros das Nações Unidas inclusos no banco de dados. Cada um destes Estados-Membros comunicou pelo menos uma medida de combate à violência contra as mulheres através de relatórios oficiais.\n",
    "\n",
    "As Nações Unidas definem a violência contra as mulheres como \"qualquer ato de violência baseada no gênero que resulte ou possa resultar em dano ou sofrimento físico, sexual ou psicológico às mulheres, incluindo ameaças de tais atos, coerção ou privação arbitrária de liberdade, ocorrendo na vida pública ou privada\" (Resolução 48/104 da Assembleia Geral Declaração sobre a Eliminação da Violência contra as Mulheres, 1993).\n",
    "\n",
    "Disponível em https://data.unwomen.org/global-database-on-violence-against-women/data-form"
   ]
  },
  {
   "cell_type": "markdown",
   "metadata": {},
   "source": [
    "### Motivação"
   ]
  },
  {
   "cell_type": "markdown",
   "metadata": {},
   "source": [
    "Encontrar um banco de dados com informações globais e como mulheres achamos interessante para descobrir como são tratatadas essas informações."
   ]
  },
  {
   "cell_type": "markdown",
   "metadata": {},
   "source": [
    "### Tratamento de Dados"
   ]
  },
  {
   "cell_type": "code",
   "execution_count": 2,
   "metadata": {},
   "outputs": [],
   "source": [
    "import pandas as pd\n",
    "import matplotlib.pyplot as plt\n",
    "import sqlite3 \n"
   ]
  },
  {
   "cell_type": "code",
   "execution_count": 3,
   "metadata": {},
   "outputs": [],
   "source": [
    "df_backup = pd.read_csv('Data_Map_export.csv')\n"
   ]
  },
  {
   "cell_type": "code",
   "execution_count": 4,
   "metadata": {},
   "outputs": [
    {
     "data": {
      "text/plain": [
       "(7440, 13)"
      ]
     },
     "execution_count": 4,
     "metadata": {},
     "output_type": "execute_result"
    }
   ],
   "source": [
    "df_backup.shape"
   ]
  },
  {
   "cell_type": "code",
   "execution_count": 5,
   "metadata": {},
   "outputs": [
    {
     "data": {
      "text/plain": [
       "(7440, 13)"
      ]
     },
     "execution_count": 5,
     "metadata": {},
     "output_type": "execute_result"
    }
   ],
   "source": [
    "df = df_backup.copy()\n",
    "df.shape"
   ]
  },
  {
   "cell_type": "code",
   "execution_count": 6,
   "metadata": {},
   "outputs": [
    {
     "name": "stdout",
     "output_type": "stream",
     "text": [
      "Template               0\n",
      "Year                 716\n",
      "Region                 3\n",
      "Form of Violence       5\n",
      "Type of Measure        4\n",
      "Country                0\n",
      "Title                  0\n",
      "Unnamed: 7          7408\n",
      "Unnamed: 8          7431\n",
      "Unnamed: 9          7436\n",
      "Unnamed: 10         7436\n",
      "Unnamed: 11         7436\n",
      "Unnamed: 12         7436\n",
      "dtype: int64\n"
     ]
    }
   ],
   "source": [
    "nulos = df.isnull().sum()\n",
    "print(nulos)"
   ]
  },
  {
   "cell_type": "code",
   "execution_count": 7,
   "metadata": {},
   "outputs": [
    {
     "name": "stdout",
     "output_type": "stream",
     "text": [
      "['Measure']\n"
     ]
    }
   ],
   "source": [
    "valores_unicos = df['Template'].unique()\n",
    "print(valores_unicos)"
   ]
  },
  {
   "cell_type": "code",
   "execution_count": 8,
   "metadata": {},
   "outputs": [
    {
     "name": "stdout",
     "output_type": "stream",
     "text": [
      "[nan\n",
      " 'State Fund for the Protection of and Assistance to Victims of Trafficking in Persons'\n",
      " 'Amendment of Code of Criminal Procedure'\n",
      " 'Act No. 119/2013 on Gender-Based Violence and Stalking'\n",
      " 'Corporate Alliance against Gender Violence']\n"
     ]
    }
   ],
   "source": [
    "valores_unicos = df['Unnamed: 12'].unique()\n",
    "print(valores_unicos)"
   ]
  },
  {
   "cell_type": "code",
   "execution_count": 9,
   "metadata": {},
   "outputs": [
    {
     "data": {
      "text/plain": [
       "Index(['Template', 'Year', 'Region', 'Form of Violence', 'Type of Measure',\n",
       "       'Country', 'Title', 'Unnamed: 7', 'Unnamed: 8', 'Unnamed: 9',\n",
       "       'Unnamed: 10', 'Unnamed: 11', 'Unnamed: 12'],\n",
       "      dtype='object')"
      ]
     },
     "execution_count": 9,
     "metadata": {},
     "output_type": "execute_result"
    }
   ],
   "source": [
    "df.columns"
   ]
  },
  {
   "cell_type": "code",
   "execution_count": 10,
   "metadata": {},
   "outputs": [],
   "source": [
    "#apagar colunas\n",
    "df.drop(['Template','Unnamed: 7', 'Unnamed: 8', 'Unnamed: 9','Unnamed: 10', 'Unnamed: 11', 'Unnamed: 12'], axis=1, inplace=True)"
   ]
  },
  {
   "cell_type": "code",
   "execution_count": 11,
   "metadata": {},
   "outputs": [
    {
     "data": {
      "text/plain": [
       "Index(['Year', 'Region', 'Form of Violence', 'Type of Measure', 'Country',\n",
       "       'Title'],\n",
       "      dtype='object')"
      ]
     },
     "execution_count": 11,
     "metadata": {},
     "output_type": "execute_result"
    }
   ],
   "source": [
    "df.columns"
   ]
  },
  {
   "cell_type": "code",
   "execution_count": 12,
   "metadata": {},
   "outputs": [
    {
     "name": "stdout",
     "output_type": "stream",
     "text": [
      "Year                716\n",
      "Region                3\n",
      "Form of Violence      5\n",
      "Type of Measure       4\n",
      "Country               0\n",
      "Title                 0\n",
      "dtype: int64\n"
     ]
    }
   ],
   "source": [
    "nulos = df.isnull().sum()\n",
    "print(nulos)"
   ]
  },
  {
   "cell_type": "code",
   "execution_count": 13,
   "metadata": {},
   "outputs": [
    {
     "name": "stdout",
     "output_type": "stream",
     "text": [
      "1\n"
     ]
    }
   ],
   "source": [
    "duplicados = df.duplicated().sum()\n",
    "print(duplicados)\n"
   ]
  },
  {
   "cell_type": "code",
   "execution_count": 15,
   "metadata": {},
   "outputs": [],
   "source": [
    "df.drop_duplicates(inplace=True)\n"
   ]
  },
  {
   "cell_type": "code",
   "execution_count": 14,
   "metadata": {},
   "outputs": [
    {
     "name": "stdout",
     "output_type": "stream",
     "text": [
      "<class 'pandas.core.frame.DataFrame'>\n",
      "RangeIndex: 7440 entries, 0 to 7439\n",
      "Data columns (total 6 columns):\n",
      " #   Column            Non-Null Count  Dtype  \n",
      "---  ------            --------------  -----  \n",
      " 0   Year              6724 non-null   float64\n",
      " 1   Region            7437 non-null   object \n",
      " 2   Form of Violence  7435 non-null   object \n",
      " 3   Type of Measure   7436 non-null   object \n",
      " 4   Country           7440 non-null   object \n",
      " 5   Title             7440 non-null   object \n",
      "dtypes: float64(1), object(5)\n",
      "memory usage: 348.9+ KB\n"
     ]
    }
   ],
   "source": [
    "df.info()"
   ]
  },
  {
   "cell_type": "code",
   "execution_count": 16,
   "metadata": {},
   "outputs": [
    {
     "data": {
      "text/html": [
       "<div>\n",
       "<style scoped>\n",
       "    .dataframe tbody tr th:only-of-type {\n",
       "        vertical-align: middle;\n",
       "    }\n",
       "\n",
       "    .dataframe tbody tr th {\n",
       "        vertical-align: top;\n",
       "    }\n",
       "\n",
       "    .dataframe thead th {\n",
       "        text-align: right;\n",
       "    }\n",
       "</style>\n",
       "<table border=\"1\" class=\"dataframe\">\n",
       "  <thead>\n",
       "    <tr style=\"text-align: right;\">\n",
       "      <th></th>\n",
       "      <th>Year</th>\n",
       "    </tr>\n",
       "  </thead>\n",
       "  <tbody>\n",
       "    <tr>\n",
       "      <th>count</th>\n",
       "      <td>6723.000000</td>\n",
       "    </tr>\n",
       "    <tr>\n",
       "      <th>mean</th>\n",
       "      <td>2008.097724</td>\n",
       "    </tr>\n",
       "    <tr>\n",
       "      <th>std</th>\n",
       "      <td>9.278981</td>\n",
       "    </tr>\n",
       "    <tr>\n",
       "      <th>min</th>\n",
       "      <td>1789.000000</td>\n",
       "    </tr>\n",
       "    <tr>\n",
       "      <th>25%</th>\n",
       "      <td>2005.000000</td>\n",
       "    </tr>\n",
       "    <tr>\n",
       "      <th>50%</th>\n",
       "      <td>2009.000000</td>\n",
       "    </tr>\n",
       "    <tr>\n",
       "      <th>75%</th>\n",
       "      <td>2014.000000</td>\n",
       "    </tr>\n",
       "    <tr>\n",
       "      <th>max</th>\n",
       "      <td>2022.000000</td>\n",
       "    </tr>\n",
       "  </tbody>\n",
       "</table>\n",
       "</div>"
      ],
      "text/plain": [
       "              Year\n",
       "count  6723.000000\n",
       "mean   2008.097724\n",
       "std       9.278981\n",
       "min    1789.000000\n",
       "25%    2005.000000\n",
       "50%    2009.000000\n",
       "75%    2014.000000\n",
       "max    2022.000000"
      ]
     },
     "execution_count": 16,
     "metadata": {},
     "output_type": "execute_result"
    }
   ],
   "source": [
    "df.describe()"
   ]
  },
  {
   "cell_type": "code",
   "execution_count": 17,
   "metadata": {},
   "outputs": [
    {
     "data": {
      "text/plain": [
       "Index(['Year', 'Region', 'Form of Violence', 'Type of Measure', 'Country',\n",
       "       'Title'],\n",
       "      dtype='object')"
      ]
     },
     "execution_count": 17,
     "metadata": {},
     "output_type": "execute_result"
    }
   ],
   "source": [
    "df.columns"
   ]
  },
  {
   "cell_type": "code",
   "execution_count": 18,
   "metadata": {},
   "outputs": [],
   "source": [
    "#renomear as colunas\n",
    "\n",
    "df.rename(columns={\n",
    "    'Year': 'Ano', \n",
    "    'Region': 'Continente', \n",
    "    'Form of Violence' : 'Forma de Violencia', \n",
    "    'Type of Measure': 'Tipos de Medida', \n",
    "    'Country': 'Pais',\n",
    "    'Title': 'Titulo'\n",
    "    }, inplace=True)"
   ]
  },
  {
   "cell_type": "code",
   "execution_count": 19,
   "metadata": {},
   "outputs": [
    {
     "data": {
      "text/html": [
       "<div>\n",
       "<style scoped>\n",
       "    .dataframe tbody tr th:only-of-type {\n",
       "        vertical-align: middle;\n",
       "    }\n",
       "\n",
       "    .dataframe tbody tr th {\n",
       "        vertical-align: top;\n",
       "    }\n",
       "\n",
       "    .dataframe thead th {\n",
       "        text-align: right;\n",
       "    }\n",
       "</style>\n",
       "<table border=\"1\" class=\"dataframe\">\n",
       "  <thead>\n",
       "    <tr style=\"text-align: right;\">\n",
       "      <th></th>\n",
       "      <th>Ano</th>\n",
       "      <th>Continente</th>\n",
       "      <th>Forma de Violencia</th>\n",
       "      <th>Tipos de Medida</th>\n",
       "      <th>Pais</th>\n",
       "      <th>Titulo</th>\n",
       "    </tr>\n",
       "  </thead>\n",
       "  <tbody>\n",
       "    <tr>\n",
       "      <th>0</th>\n",
       "      <td>1984.0</td>\n",
       "      <td>Africa</td>\n",
       "      <td>Sexual violence</td>\n",
       "      <td>Laws &gt; Violence against women &gt; Legislation</td>\n",
       "      <td>Algeria</td>\n",
       "      <td>Article 336 of the Penal Code</td>\n",
       "    </tr>\n",
       "    <tr>\n",
       "      <th>1</th>\n",
       "      <td>1996.0</td>\n",
       "      <td>Africa</td>\n",
       "      <td>Violence against women and girls</td>\n",
       "      <td>Laws &gt; Violence against women &gt; Constitutional...</td>\n",
       "      <td>Algeria</td>\n",
       "      <td>Article 34 of the Constitution</td>\n",
       "    </tr>\n",
       "    <tr>\n",
       "      <th>2</th>\n",
       "      <td>1996.0</td>\n",
       "      <td>Africa</td>\n",
       "      <td>Violence against women and girls</td>\n",
       "      <td>Laws &gt; Violence against women &gt; Constitutional...</td>\n",
       "      <td>Algeria</td>\n",
       "      <td>Article 35 of the Constitution</td>\n",
       "    </tr>\n",
       "    <tr>\n",
       "      <th>3</th>\n",
       "      <td>2000.0</td>\n",
       "      <td>Africa</td>\n",
       "      <td>Violence against women and girls</td>\n",
       "      <td>Prevention &gt; Awareness-raising Campaigns</td>\n",
       "      <td>Algeria</td>\n",
       "      <td>Association Femmes En Communication - Actions ...</td>\n",
       "    </tr>\n",
       "    <tr>\n",
       "      <th>4</th>\n",
       "      <td>2000.0</td>\n",
       "      <td>Africa</td>\n",
       "      <td>Domestic violence/Intimate partner violence</td>\n",
       "      <td>Research and statistical data &gt; Other research...</td>\n",
       "      <td>Algeria</td>\n",
       "      <td>Lancement De La Stratégie Nationale De Lutte C...</td>\n",
       "    </tr>\n",
       "    <tr>\n",
       "      <th>5</th>\n",
       "      <td>2001.0</td>\n",
       "      <td>Africa</td>\n",
       "      <td>Domestic violence/Intimate partner violence; \\...</td>\n",
       "      <td>Research and statistical data &gt; Administrative...</td>\n",
       "      <td>Algeria</td>\n",
       "      <td>Police Survey on Violence against Women</td>\n",
       "    </tr>\n",
       "    <tr>\n",
       "      <th>6</th>\n",
       "      <td>2002.0</td>\n",
       "      <td>Africa</td>\n",
       "      <td>Violence against women and girls</td>\n",
       "      <td>Services &gt; Social services &gt; Shelter Safe acco...</td>\n",
       "      <td>Algeria</td>\n",
       "      <td>Hébergement Temporaires</td>\n",
       "    </tr>\n",
       "    <tr>\n",
       "      <th>7</th>\n",
       "      <td>2002.0</td>\n",
       "      <td>Africa</td>\n",
       "      <td>Domestic violence/Intimate partner violence; \\...</td>\n",
       "      <td>Research and statistical data &gt; Dedicated viol...</td>\n",
       "      <td>Algeria</td>\n",
       "      <td>L'enquête Nationale Sur La Violence À L'encont...</td>\n",
       "    </tr>\n",
       "    <tr>\n",
       "      <th>8</th>\n",
       "      <td>2003.0</td>\n",
       "      <td>Africa</td>\n",
       "      <td>Violence against women and girls</td>\n",
       "      <td>Prevention &gt; Awareness-raising Campaigns</td>\n",
       "      <td>Algeria</td>\n",
       "      <td>Atelier Portant Sur « L'analyse De La Situatio...</td>\n",
       "    </tr>\n",
       "    <tr>\n",
       "      <th>9</th>\n",
       "      <td>2004.0</td>\n",
       "      <td>Africa</td>\n",
       "      <td>Violence against women and girls</td>\n",
       "      <td>Prevention &gt; Awareness-raising Campaigns</td>\n",
       "      <td>Algeria</td>\n",
       "      <td>Journée Internationale Pour L'élimination De L...</td>\n",
       "    </tr>\n",
       "    <tr>\n",
       "      <th>10</th>\n",
       "      <td>2004.0</td>\n",
       "      <td>Africa</td>\n",
       "      <td>Sexual harassment</td>\n",
       "      <td>Laws &gt; Violence against women &gt; Legislation</td>\n",
       "      <td>Algeria</td>\n",
       "      <td>Law No. 04-15 Amending the Penal Code</td>\n",
       "    </tr>\n",
       "    <tr>\n",
       "      <th>11</th>\n",
       "      <td>2005.0</td>\n",
       "      <td>Africa</td>\n",
       "      <td>Sexual violence</td>\n",
       "      <td>Laws &gt; Violence against women &gt; Regulations</td>\n",
       "      <td>Algeria</td>\n",
       "      <td>Charter on Peace and National Reconciliation</td>\n",
       "    </tr>\n",
       "    <tr>\n",
       "      <th>12</th>\n",
       "      <td>2005.0</td>\n",
       "      <td>Africa</td>\n",
       "      <td>Child early and forced marriage</td>\n",
       "      <td>Laws &gt; Violence against women &gt; Legislation</td>\n",
       "      <td>Algeria</td>\n",
       "      <td>Loi 084-11 Du 9 Juin 1984, Portant Code De La ...</td>\n",
       "    </tr>\n",
       "    <tr>\n",
       "      <th>13</th>\n",
       "      <td>2015.0</td>\n",
       "      <td>Africa</td>\n",
       "      <td>Violence against women and girls</td>\n",
       "      <td>Prevention &gt; Awareness-raising Campaigns</td>\n",
       "      <td>Algeria</td>\n",
       "      <td>National Award for Combating Violence against ...</td>\n",
       "    </tr>\n",
       "    <tr>\n",
       "      <th>14</th>\n",
       "      <td>2015.0</td>\n",
       "      <td>Africa</td>\n",
       "      <td>Violence against women and girls</td>\n",
       "      <td>Laws &gt; Violence against women &gt; Legislation</td>\n",
       "      <td>Algeria</td>\n",
       "      <td>Penal Code Amendment Act 2015</td>\n",
       "    </tr>\n",
       "    <tr>\n",
       "      <th>15</th>\n",
       "      <td>2016.0</td>\n",
       "      <td>Africa</td>\n",
       "      <td>Trafficking</td>\n",
       "      <td>Institutional mechanisms</td>\n",
       "      <td>Algeria</td>\n",
       "      <td>National Committee for the Prevention, Control...</td>\n",
       "    </tr>\n",
       "    <tr>\n",
       "      <th>16</th>\n",
       "      <td>2016.0</td>\n",
       "      <td>Africa</td>\n",
       "      <td>Violence against women and girls</td>\n",
       "      <td>Prevention &gt; Working with men and boys</td>\n",
       "      <td>Algeria</td>\n",
       "      <td>Workshop White Ribbon\"</td>\n",
       "    </tr>\n",
       "    <tr>\n",
       "      <th>17</th>\n",
       "      <td>2017.0</td>\n",
       "      <td>Africa</td>\n",
       "      <td>Violence against women and girls</td>\n",
       "      <td>Services &gt; Health &gt; Training</td>\n",
       "      <td>Algeria</td>\n",
       "      <td>Training for Staff of National Centers</td>\n",
       "    </tr>\n",
       "    <tr>\n",
       "      <th>18</th>\n",
       "      <td>2018.0</td>\n",
       "      <td>Africa</td>\n",
       "      <td>Violence against women and girls</td>\n",
       "      <td>Research and statistical data &gt; Administrative...</td>\n",
       "      <td>Algeria</td>\n",
       "      <td>Administrative Database AMANE\"\"</td>\n",
       "    </tr>\n",
       "    <tr>\n",
       "      <th>19</th>\n",
       "      <td>2006.0</td>\n",
       "      <td>Africa</td>\n",
       "      <td>Violence against women and girls</td>\n",
       "      <td>Budgets &gt; Government allocation</td>\n",
       "      <td>Algeria</td>\n",
       "      <td>Le Projet Porte Sur La Lutte Contre La Violenc...</td>\n",
       "    </tr>\n",
       "  </tbody>\n",
       "</table>\n",
       "</div>"
      ],
      "text/plain": [
       "       Ano Continente                                 Forma de Violencia  \\\n",
       "0   1984.0     Africa                                    Sexual violence   \n",
       "1   1996.0     Africa                   Violence against women and girls   \n",
       "2   1996.0     Africa                   Violence against women and girls   \n",
       "3   2000.0     Africa                   Violence against women and girls   \n",
       "4   2000.0     Africa        Domestic violence/Intimate partner violence   \n",
       "5   2001.0     Africa  Domestic violence/Intimate partner violence; \\...   \n",
       "6   2002.0     Africa                   Violence against women and girls   \n",
       "7   2002.0     Africa  Domestic violence/Intimate partner violence; \\...   \n",
       "8   2003.0     Africa                   Violence against women and girls   \n",
       "9   2004.0     Africa                   Violence against women and girls   \n",
       "10  2004.0     Africa                                  Sexual harassment   \n",
       "11  2005.0     Africa                                    Sexual violence   \n",
       "12  2005.0     Africa                    Child early and forced marriage   \n",
       "13  2015.0     Africa                   Violence against women and girls   \n",
       "14  2015.0     Africa                   Violence against women and girls   \n",
       "15  2016.0     Africa                                        Trafficking   \n",
       "16  2016.0     Africa                   Violence against women and girls   \n",
       "17  2017.0     Africa                   Violence against women and girls   \n",
       "18  2018.0     Africa                   Violence against women and girls   \n",
       "19  2006.0     Africa                   Violence against women and girls   \n",
       "\n",
       "                                      Tipos de Medida     Pais  \\\n",
       "0         Laws > Violence against women > Legislation  Algeria   \n",
       "1   Laws > Violence against women > Constitutional...  Algeria   \n",
       "2   Laws > Violence against women > Constitutional...  Algeria   \n",
       "3            Prevention > Awareness-raising Campaigns  Algeria   \n",
       "4   Research and statistical data > Other research...  Algeria   \n",
       "5   Research and statistical data > Administrative...  Algeria   \n",
       "6   Services > Social services > Shelter Safe acco...  Algeria   \n",
       "7   Research and statistical data > Dedicated viol...  Algeria   \n",
       "8            Prevention > Awareness-raising Campaigns  Algeria   \n",
       "9            Prevention > Awareness-raising Campaigns  Algeria   \n",
       "10        Laws > Violence against women > Legislation  Algeria   \n",
       "11        Laws > Violence against women > Regulations  Algeria   \n",
       "12        Laws > Violence against women > Legislation  Algeria   \n",
       "13           Prevention > Awareness-raising Campaigns  Algeria   \n",
       "14        Laws > Violence against women > Legislation  Algeria   \n",
       "15                           Institutional mechanisms  Algeria   \n",
       "16             Prevention > Working with men and boys  Algeria   \n",
       "17                       Services > Health > Training  Algeria   \n",
       "18  Research and statistical data > Administrative...  Algeria   \n",
       "19                    Budgets > Government allocation  Algeria   \n",
       "\n",
       "                                               Titulo  \n",
       "0                       Article 336 of the Penal Code  \n",
       "1                      Article 34 of the Constitution  \n",
       "2                      Article 35 of the Constitution  \n",
       "3   Association Femmes En Communication - Actions ...  \n",
       "4   Lancement De La Stratégie Nationale De Lutte C...  \n",
       "5             Police Survey on Violence against Women  \n",
       "6                             Hébergement Temporaires  \n",
       "7   L'enquête Nationale Sur La Violence À L'encont...  \n",
       "8   Atelier Portant Sur « L'analyse De La Situatio...  \n",
       "9   Journée Internationale Pour L'élimination De L...  \n",
       "10              Law No. 04-15 Amending the Penal Code  \n",
       "11       Charter on Peace and National Reconciliation  \n",
       "12  Loi 084-11 Du 9 Juin 1984, Portant Code De La ...  \n",
       "13  National Award for Combating Violence against ...  \n",
       "14                      Penal Code Amendment Act 2015  \n",
       "15  National Committee for the Prevention, Control...  \n",
       "16                             Workshop White Ribbon\"  \n",
       "17             Training for Staff of National Centers  \n",
       "18                    Administrative Database AMANE\"\"  \n",
       "19  Le Projet Porte Sur La Lutte Contre La Violenc...  "
      ]
     },
     "execution_count": 19,
     "metadata": {},
     "output_type": "execute_result"
    }
   ],
   "source": [
    "df.head(20)"
   ]
  },
  {
   "cell_type": "code",
   "execution_count": 22,
   "metadata": {},
   "outputs": [],
   "source": [
    "#substitui o tipo float por int\n",
    "\n",
    "df['Ano'] = df['Ano'].astype(int)"
   ]
  },
  {
   "cell_type": "code",
   "execution_count": 21,
   "metadata": {},
   "outputs": [],
   "source": [
    "#substitui valores nulos por zero\n",
    "\n",
    "df['Ano'] = df['Ano'].fillna(0)"
   ]
  },
  {
   "cell_type": "code",
   "execution_count": 23,
   "metadata": {},
   "outputs": [],
   "source": [
    "#separa a medição que está e cria novas colunas\n",
    "\n",
    "medicao_separada = df['Tipos de Medida'].str.split(' > ', expand=True)\n",
    "medicao_separada.columns = ['Medicao Nivel 1', 'Medicao Nivel 2', 'Medicao Nivel 3']\n",
    "df = pd.concat([df, medicao_separada], axis=1)"
   ]
  },
  {
   "cell_type": "code",
   "execution_count": 24,
   "metadata": {},
   "outputs": [
    {
     "data": {
      "text/plain": [
       "Index(['Ano', 'Continente', 'Forma de Violencia', 'Tipos de Medida', 'Pais',\n",
       "       'Titulo', 'Medicao Nivel 1', 'Medicao Nivel 2', 'Medicao Nivel 3'],\n",
       "      dtype='object')"
      ]
     },
     "execution_count": 24,
     "metadata": {},
     "output_type": "execute_result"
    }
   ],
   "source": [
    "df.columns"
   ]
  },
  {
   "cell_type": "code",
   "execution_count": 74,
   "metadata": {},
   "outputs": [
    {
     "data": {
      "text/html": [
       "<div>\n",
       "<style scoped>\n",
       "    .dataframe tbody tr th:only-of-type {\n",
       "        vertical-align: middle;\n",
       "    }\n",
       "\n",
       "    .dataframe tbody tr th {\n",
       "        vertical-align: top;\n",
       "    }\n",
       "\n",
       "    .dataframe thead th {\n",
       "        text-align: right;\n",
       "    }\n",
       "</style>\n",
       "<table border=\"1\" class=\"dataframe\">\n",
       "  <thead>\n",
       "    <tr style=\"text-align: right;\">\n",
       "      <th></th>\n",
       "      <th>Ano</th>\n",
       "    </tr>\n",
       "  </thead>\n",
       "  <tbody>\n",
       "    <tr>\n",
       "      <th>count</th>\n",
       "      <td>7439.000000</td>\n",
       "    </tr>\n",
       "    <tr>\n",
       "      <th>mean</th>\n",
       "      <td>1814.819331</td>\n",
       "    </tr>\n",
       "    <tr>\n",
       "      <th>std</th>\n",
       "      <td>592.359971</td>\n",
       "    </tr>\n",
       "    <tr>\n",
       "      <th>min</th>\n",
       "      <td>0.000000</td>\n",
       "    </tr>\n",
       "    <tr>\n",
       "      <th>25%</th>\n",
       "      <td>2003.000000</td>\n",
       "    </tr>\n",
       "    <tr>\n",
       "      <th>50%</th>\n",
       "      <td>2008.000000</td>\n",
       "    </tr>\n",
       "    <tr>\n",
       "      <th>75%</th>\n",
       "      <td>2013.000000</td>\n",
       "    </tr>\n",
       "    <tr>\n",
       "      <th>max</th>\n",
       "      <td>2022.000000</td>\n",
       "    </tr>\n",
       "  </tbody>\n",
       "</table>\n",
       "</div>"
      ],
      "text/plain": [
       "               Ano\n",
       "count  7439.000000\n",
       "mean   1814.819331\n",
       "std     592.359971\n",
       "min       0.000000\n",
       "25%    2003.000000\n",
       "50%    2008.000000\n",
       "75%    2013.000000\n",
       "max    2022.000000"
      ]
     },
     "execution_count": 74,
     "metadata": {},
     "output_type": "execute_result"
    }
   ],
   "source": [
    "df.describe()"
   ]
  },
  {
   "cell_type": "code",
   "execution_count": 25,
   "metadata": {},
   "outputs": [],
   "source": [
    "df.to_csv('woman_tratado.csv', index=False)"
   ]
  },
  {
   "cell_type": "markdown",
   "metadata": {},
   "source": [
    "### Análise dos Dados"
   ]
  },
  {
   "cell_type": "markdown",
   "metadata": {},
   "source": [
    "Quais os paises que mais tem registros de casamento infantil e forçado"
   ]
  },
  {
   "cell_type": "code",
   "execution_count": 26,
   "metadata": {},
   "outputs": [
    {
     "data": {
      "image/png": "[encoded data removed]",
      "text/plain": [
       "<Figure size 640x480 with 1 Axes>"
      ]
     },
     "metadata": {},
     "output_type": "display_data"
    }
   ],
   "source": [
    "#plotagem\n",
    "df_filtrado = df[df[\"Forma de Violencia\"] == \"Child early and forced marriage\"]\n",
    "contagem_paises = df_filtrado[\"Pais\"].value_counts()\n",
    "top_10_paises = contagem_paises.head(10)\n",
    "\n",
    "top_10_paises.plot(kind=\"bar\", edgecolor=\"blue\", color=\"tomato\")\n",
    "\n",
    "#rotulos\n",
    "plt.xlabel(\"País\")\n",
    "plt.ylabel(\"Número de Registros\")\n",
    "plt.title(\"Casamento Infantil\")\n",
    "plt.xticks(rotation=90)\n",
    "plt.show()"
   ]
  },
  {
   "cell_type": "markdown",
   "metadata": {},
   "source": [
    "Evolução dos registros de violência "
   ]
  },
  {
   "cell_type": "code",
   "execution_count": 27,
   "metadata": {},
   "outputs": [
    {
     "data": {
      "image/png": "[encoded data removed]",
      "text/plain": [
       "<Figure size 640x480 with 1 Axes>"
      ]
     },
     "metadata": {},
     "output_type": "display_data"
    }
   ],
   "source": [
    "ano_filtrado = df[df['Ano'] > 1990]\n",
    "\n",
    "ano_filtrado[\"Ano\"].plot.hist(edgecolor=\"black\", color=\"rebeccapurple\")\n",
    "\n",
    "plt.xlabel(\"Ano\")\n",
    "plt.ylabel(\"Quantidade\")\n",
    "plt.title(\"Evolução de Registros por ano, apartir de 1990\")\n",
    "\n",
    "plt.show()"
   ]
  },
  {
   "cell_type": "markdown",
   "metadata": {},
   "source": [
    "15 país que mais registram casos de violência contra mulher "
   ]
  },
  {
   "cell_type": "code",
   "execution_count": 41,
   "metadata": {},
   "outputs": [
    {
     "data": {
      "image/png": "[encoded data removed]",
      "text/plain": [
       "<Figure size 640x480 with 1 Axes>"
      ]
     },
     "metadata": {},
     "output_type": "display_data"
    }
   ],
   "source": [
    "contagem_paises = df[\"Pais\"].value_counts()\n",
    "top_10_paises = contagem_paises.head(15)\n",
    "\n",
    "top_10_paises.plot(kind=\"barh\", edgecolor=\"red\", color=\"darkblue\")\n",
    "plt.ylabel(\"País\")\n",
    "plt.xlabel(\"Número de Registros\")\n",
    "plt.title(\"15 Países que MAIS Registram\")\n",
    "plt.xticks(rotation=0)\n",
    "plt.show()"
   ]
  },
  {
   "cell_type": "markdown",
   "metadata": {},
   "source": [
    "Quais 15 paises que menos registram violência contra a mulher"
   ]
  },
  {
   "cell_type": "code",
   "execution_count": 39,
   "metadata": {},
   "outputs": [
    {
     "data": {
      "image/png": "[encoded data removed]",
      "text/plain": [
       "<Figure size 640x480 with 1 Axes>"
      ]
     },
     "metadata": {},
     "output_type": "display_data"
    }
   ],
   "source": [
    "contagem_paises = df[\"Pais\"].value_counts()\n",
    "top_10_paises = contagem_paises.tail(15)\n",
    "\n",
    "top_10_paises.plot(kind=\"barh\", edgecolor=\"darkorange\", color=\"darkolivegreen\")\n",
    "plt.ylabel(\"País\")\n",
    "plt.xlabel(\"Número de Registros\")\n",
    "plt.title(\"15 Países que MENOS Registram\")\n",
    "plt.xticks(rotation=0)\n",
    "plt.show()"
   ]
  },
  {
   "cell_type": "markdown",
   "metadata": {},
   "source": [
    "### Teste de Hipótese\n",
    "\n",
    " Hipótese Nula H0: O Brasil NÃO está entre os países que mais registram \n",
    " \n",
    " Hipótese Alternativa H1: O Brasil está entre os países que mais registram "
   ]
  },
  {
   "cell_type": "code",
   "execution_count": 45,
   "metadata": {},
   "outputs": [
    {
     "name": "stdout",
     "output_type": "stream",
     "text": [
      "Collecting statsmodels\n",
      "  Downloading statsmodels-0.14.2-cp312-cp312-win_amd64.whl.metadata (9.5 kB)\n",
      "Requirement already satisfied: numpy>=1.22.3 in c:\\users\\55119\\appdata\\local\\programs\\python\\python312\\lib\\site-packages (from statsmodels) (2.0.1)\n",
      "Requirement already satisfied: scipy!=1.9.2,>=1.8 in c:\\users\\55119\\appdata\\local\\programs\\python\\python312\\lib\\site-packages (from statsmodels) (1.14.1)\n",
      "Requirement already satisfied: pandas!=2.1.0,>=1.4 in c:\\users\\55119\\appdata\\local\\programs\\python\\python312\\lib\\site-packages (from statsmodels) (2.2.2)\n",
      "Collecting patsy>=0.5.6 (from statsmodels)\n",
      "  Downloading patsy-0.5.6-py2.py3-none-any.whl.metadata (3.5 kB)\n",
      "Requirement already satisfied: packaging>=21.3 in c:\\users\\55119\\appdata\\roaming\\python\\python312\\site-packages (from statsmodels) (24.1)\n",
      "Requirement already satisfied: python-dateutil>=2.8.2 in c:\\users\\55119\\appdata\\roaming\\python\\python312\\site-packages (from pandas!=2.1.0,>=1.4->statsmodels) (2.9.0.post0)\n",
      "Requirement already satisfied: pytz>=2020.1 in c:\\users\\55119\\appdata\\local\\programs\\python\\python312\\lib\\site-packages (from pandas!=2.1.0,>=1.4->statsmodels) (2024.1)\n",
      "Requirement already satisfied: tzdata>=2022.7 in c:\\users\\55119\\appdata\\local\\programs\\python\\python312\\lib\\site-packages (from pandas!=2.1.0,>=1.4->statsmodels) (2024.1)\n",
      "Requirement already satisfied: six in c:\\users\\55119\\appdata\\roaming\\python\\python312\\site-packages (from patsy>=0.5.6->statsmodels) (1.16.0)\n",
      "Downloading statsmodels-0.14.2-cp312-cp312-win_amd64.whl (9.8 MB)\n",
      "   ---------------------------------------- 0.0/9.8 MB ? eta -:--:--\n",
      "    --------------------------------------- 0.2/9.8 MB 6.9 MB/s eta 0:00:02\n",
      "   - -------------------------------------- 0.3/9.8 MB 4.3 MB/s eta 0:00:03\n",
      "   - -------------------------------------- 0.5/9.8 MB 3.3 MB/s eta 0:00:03\n",
      "   -- ------------------------------------- 0.7/9.8 MB 3.8 MB/s eta 0:00:03\n",
      "   --- ------------------------------------ 0.9/9.8 MB 3.7 MB/s eta 0:00:03\n",
      "   ---- ----------------------------------- 1.1/9.8 MB 3.8 MB/s eta 0:00:03\n",
      "   ---- ----------------------------------- 1.2/9.8 MB 3.5 MB/s eta 0:00:03\n",
      "   ----- ---------------------------------- 1.3/9.8 MB 3.6 MB/s eta 0:00:03\n",
      "   ------ --------------------------------- 1.5/9.8 MB 3.5 MB/s eta 0:00:03\n",
      "   ------- -------------------------------- 1.7/9.8 MB 3.7 MB/s eta 0:00:03\n",
      "   ------- -------------------------------- 1.9/9.8 MB 3.7 MB/s eta 0:00:03\n",
      "   -------- ------------------------------- 2.1/9.8 MB 3.7 MB/s eta 0:00:03\n",
      "   --------- ------------------------------ 2.3/9.8 MB 3.7 MB/s eta 0:00:03\n",
      "   ---------- ----------------------------- 2.5/9.8 MB 3.8 MB/s eta 0:00:02\n",
      "   ---------- ----------------------------- 2.6/9.8 MB 3.8 MB/s eta 0:00:02\n",
      "   ----------- ---------------------------- 2.9/9.8 MB 3.9 MB/s eta 0:00:02\n",
      "   ------------ --------------------------- 3.1/9.8 MB 3.9 MB/s eta 0:00:02\n",
      "   ------------- -------------------------- 3.4/9.8 MB 3.9 MB/s eta 0:00:02\n",
      "   -------------- ------------------------- 3.5/9.8 MB 3.9 MB/s eta 0:00:02\n",
      "   --------------- ------------------------ 3.7/9.8 MB 3.9 MB/s eta 0:00:02\n",
      "   ---------------- ----------------------- 4.0/9.8 MB 3.9 MB/s eta 0:00:02\n",
      "   ---------------- ----------------------- 4.1/9.8 MB 3.9 MB/s eta 0:00:02\n",
      "   ----------------- ---------------------- 4.3/9.8 MB 3.9 MB/s eta 0:00:02\n",
      "   ------------------ --------------------- 4.5/9.8 MB 3.9 MB/s eta 0:00:02\n",
      "   ------------------ --------------------- 4.6/9.8 MB 3.7 MB/s eta 0:00:02\n",
      "   ------------------- -------------------- 4.8/9.8 MB 3.7 MB/s eta 0:00:02\n",
      "   -------------------- ------------------- 5.1/9.8 MB 3.8 MB/s eta 0:00:02\n",
      "   --------------------- ------------------ 5.3/9.8 MB 3.7 MB/s eta 0:00:02\n",
      "   ---------------------- ----------------- 5.5/9.8 MB 3.7 MB/s eta 0:00:02\n",
      "   ----------------------- ---------------- 5.7/9.8 MB 3.7 MB/s eta 0:00:02\n",
      "   ------------------------ --------------- 6.0/9.8 MB 3.8 MB/s eta 0:00:02\n",
      "   ------------------------- -------------- 6.2/9.8 MB 3.8 MB/s eta 0:00:01\n",
      "   -------------------------- ------------- 6.4/9.8 MB 3.7 MB/s eta 0:00:01\n",
      "   -------------------------- ------------- 6.6/9.8 MB 3.7 MB/s eta 0:00:01\n",
      "   --------------------------- ------------ 6.8/9.8 MB 3.7 MB/s eta 0:00:01\n",
      "   ---------------------------- ----------- 7.0/9.8 MB 3.7 MB/s eta 0:00:01\n",
      "   ----------------------------- ---------- 7.2/9.8 MB 3.7 MB/s eta 0:00:01\n",
      "   ----------------------------- ---------- 7.4/9.8 MB 3.7 MB/s eta 0:00:01\n",
      "   ------------------------------ --------- 7.5/9.8 MB 3.7 MB/s eta 0:00:01\n",
      "   ------------------------------- -------- 7.7/9.8 MB 3.7 MB/s eta 0:00:01\n",
      "   ------------------------------- -------- 7.9/9.8 MB 3.7 MB/s eta 0:00:01\n",
      "   -------------------------------- ------- 8.0/9.8 MB 3.7 MB/s eta 0:00:01\n",
      "   --------------------------------- ------ 8.3/9.8 MB 3.7 MB/s eta 0:00:01\n",
      "   ---------------------------------- ----- 8.5/9.8 MB 3.7 MB/s eta 0:00:01\n",
      "   ----------------------------------- ---- 8.6/9.8 MB 3.7 MB/s eta 0:00:01\n",
      "   ------------------------------------ --- 8.9/9.8 MB 3.7 MB/s eta 0:00:01\n",
      "   ------------------------------------ --- 9.1/9.8 MB 3.7 MB/s eta 0:00:01\n",
      "   -------------------------------------- - 9.4/9.8 MB 3.7 MB/s eta 0:00:01\n",
      "   -------------------------------------- - 9.5/9.8 MB 3.7 MB/s eta 0:00:01\n",
      "   ---------------------------------------  9.8/9.8 MB 3.7 MB/s eta 0:00:01\n",
      "   ---------------------------------------  9.8/9.8 MB 3.7 MB/s eta 0:00:01\n",
      "   ---------------------------------------  9.8/9.8 MB 3.7 MB/s eta 0:00:01\n",
      "   ---------------------------------------- 9.8/9.8 MB 3.6 MB/s eta 0:00:00\n",
      "Downloading patsy-0.5.6-py2.py3-none-any.whl (233 kB)\n",
      "   ---------------------------------------- 0.0/233.9 kB ? eta -:--:--\n",
      "   ------------------------------------- - 225.3/233.9 kB 13.4 MB/s eta 0:00:01\n",
      "   ---------------------------------------- 233.9/233.9 kB 2.9 MB/s eta 0:00:00\n",
      "Installing collected packages: patsy, statsmodels\n",
      "Successfully installed patsy-0.5.6 statsmodels-0.14.2\n",
      "Note: you may need to restart the kernel to use updated packages.\n"
     ]
    },
    {
     "name": "stderr",
     "output_type": "stream",
     "text": [
      "\n",
      "[notice] A new release of pip is available: 24.1.2 -> 24.2\n",
      "[notice] To update, run: python.exe -m pip install --upgrade pip\n"
     ]
    }
   ],
   "source": [
    "pip install statsmodels"
   ]
  },
  {
   "cell_type": "code",
   "execution_count": 80,
   "metadata": {},
   "outputs": [],
   "source": [
    "from statsmodels.stats.weightstats import ztest"
   ]
  },
  {
   "cell_type": "code",
   "execution_count": 81,
   "metadata": {},
   "outputs": [
    {
     "name": "stdout",
     "output_type": "stream",
     "text": [
      "Teste Z de Brasil\n",
      "Estatística Z: -inf\n",
      "Valor P: 1.0\n",
      "Aceitamos a hipótese nula. O Brasil NÃO está entre os países que mais registram casos de violência.\n"
     ]
    },
    {
     "name": "stderr",
     "output_type": "stream",
     "text": [
      "c:\\Users\\55119\\AppData\\Local\\Programs\\Python\\Python312\\Lib\\site-packages\\statsmodels\\stats\\weightstats.py:748: RuntimeWarning: divide by zero encountered in scalar divide\n",
      "  zstat = (value1 - value2 - diff) / std_diff\n"
     ]
    }
   ],
   "source": [
    "# Filtrando os dados \n",
    "contagem_brazil = df[df[\"Pais\"] == \"Brazil\"].value_counts()\n",
    "\n",
    "#Teste Z\n",
    "stats, valor_p = ztest(x1=contagem_brazil, value=70, alternative=\"larger\")\n",
    "\n",
    "print(\"Teste Z de Brasil\")\n",
    "print(f\"Estatística Z: {stats}\")\n",
    "print(f\"Valor P: {valor_p}\")\n",
    "\n",
    "#interpretação\n",
    "if valor_p < 0.05:\n",
    "    print(\"Rejeitamos a hipótese nula. O Brasil está entre os países que mais registram casos de violência.\")\n",
    "else:\n",
    "    print(\"Aceitamos a hipótese nula. O Brasil NÃO está entre os países que mais registram casos de violência.\")"
   ]
  }
 ],
 "metadata": {
  "kernelspec": {
   "display_name": "Python 3",
   "language": "python",
   "name": "python3"
  },
  "language_info": {
   "codemirror_mode": {
    "name": "ipython",
    "version": 3
   },
   "file_extension": ".py",
   "mimetype": "text/x-python",
   "name": "python",
   "nbconvert_exporter": "python",
   "pygments_lexer": "ipython3",
   "version": "3.12.3"
  }
 },
 "nbformat": 4,
 "nbformat_minor": 2
}
