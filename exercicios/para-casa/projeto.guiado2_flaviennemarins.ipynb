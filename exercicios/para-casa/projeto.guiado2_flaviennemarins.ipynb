{
 "cells": [
  {
   "cell_type": "code",
   "execution_count": 1,
   "metadata": {},
   "outputs": [
    {
     "name": "stdout",
     "output_type": "stream",
     "text": [
      "Requirement already satisfied: matplotlib in c:\\users\\flavi_000\\appdata\\local\\programs\\python\\python312\\lib\\site-packages (3.9.2)\n",
      "Requirement already satisfied: contourpy>=1.0.1 in c:\\users\\flavi_000\\appdata\\local\\programs\\python\\python312\\lib\\site-packages (from matplotlib) (1.2.1)\n",
      "Requirement already satisfied: cycler>=0.10 in c:\\users\\flavi_000\\appdata\\local\\programs\\python\\python312\\lib\\site-packages (from matplotlib) (0.12.1)\n",
      "Requirement already satisfied: fonttools>=4.22.0 in c:\\users\\flavi_000\\appdata\\local\\programs\\python\\python312\\lib\\site-packages (from matplotlib) (4.53.1)\n",
      "Requirement already satisfied: kiwisolver>=1.3.1 in c:\\users\\flavi_000\\appdata\\local\\programs\\python\\python312\\lib\\site-packages (from matplotlib) (1.4.5)\n",
      "Requirement already satisfied: numpy>=1.23 in c:\\users\\flavi_000\\appdata\\local\\programs\\python\\python312\\lib\\site-packages (from matplotlib) (2.0.1)\n",
      "Requirement already satisfied: packaging>=20.0 in c:\\users\\flavi_000\\appdata\\roaming\\python\\python312\\site-packages (from matplotlib) (24.1)\n",
      "Requirement already satisfied: pillow>=8 in c:\\users\\flavi_000\\appdata\\local\\programs\\python\\python312\\lib\\site-packages (from matplotlib) (10.4.0)\n",
      "Requirement already satisfied: pyparsing>=2.3.1 in c:\\users\\flavi_000\\appdata\\local\\programs\\python\\python312\\lib\\site-packages (from matplotlib) (3.1.2)\n",
      "Requirement already satisfied: python-dateutil>=2.7 in c:\\users\\flavi_000\\appdata\\roaming\\python\\python312\\site-packages (from matplotlib) (2.9.0.post0)\n",
      "Requirement already satisfied: six>=1.5 in c:\\users\\flavi_000\\appdata\\roaming\\python\\python312\\site-packages (from python-dateutil>=2.7->matplotlib) (1.16.0)\n",
      "Note: you may need to restart the kernel to use updated packages.\n"
     ]
    }
   ],
   "source": [
    "pip install matplotlib"
   ]
  },
  {
   "cell_type": "code",
   "execution_count": 98,
   "metadata": {},
   "outputs": [],
   "source": [
    "#importar bibliotecas, utilizando abreviações para chama-las no decorrer do código\n",
    "import pandas as pd\n",
    "import matplotlib.pyplot as plt\n",
    "import seaborn as sns"
   ]
  },
  {
   "cell_type": "code",
   "execution_count": 3,
   "metadata": {},
   "outputs": [],
   "source": [
    "#Leitura do arquivo csv\n",
    "df = pd.read_csv(\"cuidadosdesaude_noshows.csv\")"
   ]
  },
  {
   "cell_type": "code",
   "execution_count": 4,
   "metadata": {},
   "outputs": [
    {
     "data": {
      "text/html": [
       "<div>\n",
       "<style scoped>\n",
       "    .dataframe tbody tr th:only-of-type {\n",
       "        vertical-align: middle;\n",
       "    }\n",
       "\n",
       "    .dataframe tbody tr th {\n",
       "        vertical-align: top;\n",
       "    }\n",
       "\n",
       "    .dataframe thead th {\n",
       "        text-align: right;\n",
       "    }\n",
       "</style>\n",
       "<table border=\"1\" class=\"dataframe\">\n",
       "  <thead>\n",
       "    <tr style=\"text-align: right;\">\n",
       "      <th></th>\n",
       "      <th>PatientId</th>\n",
       "      <th>AppointmentID</th>\n",
       "      <th>Gender</th>\n",
       "      <th>ScheduledDay</th>\n",
       "      <th>AppointmentDay</th>\n",
       "      <th>Age</th>\n",
       "      <th>Neighbourhood</th>\n",
       "      <th>Scholarship</th>\n",
       "      <th>Hipertension</th>\n",
       "      <th>Diabetes</th>\n",
       "      <th>Alcoholism</th>\n",
       "      <th>Handcap</th>\n",
       "      <th>SMS_received</th>\n",
       "      <th>Showed_up</th>\n",
       "      <th>Date.diff</th>\n",
       "    </tr>\n",
       "  </thead>\n",
       "  <tbody>\n",
       "    <tr>\n",
       "      <th>0</th>\n",
       "      <td>2.987250e+13</td>\n",
       "      <td>5642903</td>\n",
       "      <td>F</td>\n",
       "      <td>2016-04-29</td>\n",
       "      <td>2016-04-29</td>\n",
       "      <td>62</td>\n",
       "      <td>JARDIM DA PENHA</td>\n",
       "      <td>False</td>\n",
       "      <td>True</td>\n",
       "      <td>False</td>\n",
       "      <td>False</td>\n",
       "      <td>False</td>\n",
       "      <td>False</td>\n",
       "      <td>True</td>\n",
       "      <td>0</td>\n",
       "    </tr>\n",
       "    <tr>\n",
       "      <th>1</th>\n",
       "      <td>5.589978e+14</td>\n",
       "      <td>5642503</td>\n",
       "      <td>M</td>\n",
       "      <td>2016-04-29</td>\n",
       "      <td>2016-04-29</td>\n",
       "      <td>56</td>\n",
       "      <td>JARDIM DA PENHA</td>\n",
       "      <td>False</td>\n",
       "      <td>False</td>\n",
       "      <td>False</td>\n",
       "      <td>False</td>\n",
       "      <td>False</td>\n",
       "      <td>False</td>\n",
       "      <td>True</td>\n",
       "      <td>0</td>\n",
       "    </tr>\n",
       "    <tr>\n",
       "      <th>2</th>\n",
       "      <td>4.262962e+12</td>\n",
       "      <td>5642549</td>\n",
       "      <td>F</td>\n",
       "      <td>2016-04-29</td>\n",
       "      <td>2016-04-29</td>\n",
       "      <td>62</td>\n",
       "      <td>MATA DA PRAIA</td>\n",
       "      <td>False</td>\n",
       "      <td>False</td>\n",
       "      <td>False</td>\n",
       "      <td>False</td>\n",
       "      <td>False</td>\n",
       "      <td>False</td>\n",
       "      <td>True</td>\n",
       "      <td>0</td>\n",
       "    </tr>\n",
       "    <tr>\n",
       "      <th>3</th>\n",
       "      <td>8.679512e+11</td>\n",
       "      <td>5642828</td>\n",
       "      <td>F</td>\n",
       "      <td>2016-04-29</td>\n",
       "      <td>2016-04-29</td>\n",
       "      <td>8</td>\n",
       "      <td>PONTAL DE CAMBURI</td>\n",
       "      <td>False</td>\n",
       "      <td>False</td>\n",
       "      <td>False</td>\n",
       "      <td>False</td>\n",
       "      <td>False</td>\n",
       "      <td>False</td>\n",
       "      <td>True</td>\n",
       "      <td>0</td>\n",
       "    </tr>\n",
       "    <tr>\n",
       "      <th>4</th>\n",
       "      <td>8.841186e+12</td>\n",
       "      <td>5642494</td>\n",
       "      <td>F</td>\n",
       "      <td>2016-04-29</td>\n",
       "      <td>2016-04-29</td>\n",
       "      <td>56</td>\n",
       "      <td>JARDIM DA PENHA</td>\n",
       "      <td>False</td>\n",
       "      <td>True</td>\n",
       "      <td>True</td>\n",
       "      <td>False</td>\n",
       "      <td>False</td>\n",
       "      <td>False</td>\n",
       "      <td>True</td>\n",
       "      <td>0</td>\n",
       "    </tr>\n",
       "  </tbody>\n",
       "</table>\n",
       "</div>"
      ],
      "text/plain": [
       "      PatientId  AppointmentID Gender ScheduledDay AppointmentDay  Age  \\\n",
       "0  2.987250e+13        5642903      F   2016-04-29     2016-04-29   62   \n",
       "1  5.589978e+14        5642503      M   2016-04-29     2016-04-29   56   \n",
       "2  4.262962e+12        5642549      F   2016-04-29     2016-04-29   62   \n",
       "3  8.679512e+11        5642828      F   2016-04-29     2016-04-29    8   \n",
       "4  8.841186e+12        5642494      F   2016-04-29     2016-04-29   56   \n",
       "\n",
       "       Neighbourhood  Scholarship  Hipertension  Diabetes  Alcoholism  \\\n",
       "0    JARDIM DA PENHA        False          True     False       False   \n",
       "1    JARDIM DA PENHA        False         False     False       False   \n",
       "2      MATA DA PRAIA        False         False     False       False   \n",
       "3  PONTAL DE CAMBURI        False         False     False       False   \n",
       "4    JARDIM DA PENHA        False          True      True       False   \n",
       "\n",
       "   Handcap  SMS_received  Showed_up  Date.diff  \n",
       "0    False         False       True          0  \n",
       "1    False         False       True          0  \n",
       "2    False         False       True          0  \n",
       "3    False         False       True          0  \n",
       "4    False         False       True          0  "
      ]
     },
     "execution_count": 4,
     "metadata": {},
     "output_type": "execute_result"
    }
   ],
   "source": [
    "#exibe as linhas da tabela solicitado dentro do parênteses\n",
    "df.head()"
   ]
  },
  {
   "cell_type": "code",
   "execution_count": 6,
   "metadata": {},
   "outputs": [
    {
     "data": {
      "text/plain": [
       "(106987, 15)"
      ]
     },
     "execution_count": 6,
     "metadata": {},
     "output_type": "execute_result"
    }
   ],
   "source": [
    "#leitura das quantidades de linhas e colunas (boa prática)\n",
    "df.shape"
   ]
  },
  {
   "cell_type": "code",
   "execution_count": 7,
   "metadata": {},
   "outputs": [],
   "source": [
    "#backup salva os dados neste momento sem os tratamento, sem alteração em uma variável\n",
    "df_backup = df.copy()"
   ]
  },
  {
   "cell_type": "code",
   "execution_count": 8,
   "metadata": {},
   "outputs": [
    {
     "name": "stdout",
     "output_type": "stream",
     "text": [
      "PatientId         0\n",
      "AppointmentID     0\n",
      "Gender            0\n",
      "ScheduledDay      0\n",
      "AppointmentDay    0\n",
      "Age               0\n",
      "Neighbourhood     0\n",
      "Scholarship       0\n",
      "Hipertension      0\n",
      "Diabetes          0\n",
      "Alcoholism        0\n",
      "Handcap           0\n",
      "SMS_received      0\n",
      "Showed_up         0\n",
      "Date.diff         0\n",
      "dtype: int64\n"
     ]
    }
   ],
   "source": [
    "#Contar dados nulos em cada coluna isnull conta e o sum soma, aqui considera em y, colunas\n",
    "nulos_por_colunas = df.isnull().sum()\n",
    "print(nulos_por_colunas)"
   ]
  },
  {
   "cell_type": "code",
   "execution_count": 9,
   "metadata": {},
   "outputs": [
    {
     "name": "stdout",
     "output_type": "stream",
     "text": [
      "0         0\n",
      "1         0\n",
      "2         0\n",
      "3         0\n",
      "4         0\n",
      "         ..\n",
      "106982    0\n",
      "106983    0\n",
      "106984    0\n",
      "106985    0\n",
      "106986    0\n",
      "Length: 106987, dtype: int64\n"
     ]
    }
   ],
   "source": [
    "#Contar dados nulos por linhas axis=1 indica que a contagem será por linhas, só tem a opção de true e false, 0 e 1\n",
    "nulos_por_linhas = df.isnull().sum(axis=1)\n",
    "print(nulos_por_linhas)"
   ]
  },
  {
   "cell_type": "code",
   "execution_count": 10,
   "metadata": {},
   "outputs": [
    {
     "data": {
      "text/html": [
       "<div>\n",
       "<style scoped>\n",
       "    .dataframe tbody tr th:only-of-type {\n",
       "        vertical-align: middle;\n",
       "    }\n",
       "\n",
       "    .dataframe tbody tr th {\n",
       "        vertical-align: top;\n",
       "    }\n",
       "\n",
       "    .dataframe thead th {\n",
       "        text-align: right;\n",
       "    }\n",
       "</style>\n",
       "<table border=\"1\" class=\"dataframe\">\n",
       "  <thead>\n",
       "    <tr style=\"text-align: right;\">\n",
       "      <th></th>\n",
       "      <th>PatientId</th>\n",
       "      <th>AppointmentID</th>\n",
       "      <th>Age</th>\n",
       "      <th>Date.diff</th>\n",
       "    </tr>\n",
       "  </thead>\n",
       "  <tbody>\n",
       "    <tr>\n",
       "      <th>count</th>\n",
       "      <td>1.069870e+05</td>\n",
       "      <td>1.069870e+05</td>\n",
       "      <td>106987.000000</td>\n",
       "      <td>106987.000000</td>\n",
       "    </tr>\n",
       "    <tr>\n",
       "      <th>mean</th>\n",
       "      <td>1.472814e+14</td>\n",
       "      <td>5.675434e+06</td>\n",
       "      <td>38.316085</td>\n",
       "      <td>10.166721</td>\n",
       "    </tr>\n",
       "    <tr>\n",
       "      <th>std</th>\n",
       "      <td>2.558267e+14</td>\n",
       "      <td>7.133274e+04</td>\n",
       "      <td>22.466214</td>\n",
       "      <td>15.263508</td>\n",
       "    </tr>\n",
       "    <tr>\n",
       "      <th>min</th>\n",
       "      <td>3.921784e+04</td>\n",
       "      <td>5.030230e+06</td>\n",
       "      <td>1.000000</td>\n",
       "      <td>-6.000000</td>\n",
       "    </tr>\n",
       "    <tr>\n",
       "      <th>25%</th>\n",
       "      <td>4.173523e+12</td>\n",
       "      <td>5.640490e+06</td>\n",
       "      <td>19.000000</td>\n",
       "      <td>0.000000</td>\n",
       "    </tr>\n",
       "    <tr>\n",
       "      <th>50%</th>\n",
       "      <td>3.172463e+13</td>\n",
       "      <td>5.680744e+06</td>\n",
       "      <td>38.000000</td>\n",
       "      <td>4.000000</td>\n",
       "    </tr>\n",
       "    <tr>\n",
       "      <th>75%</th>\n",
       "      <td>9.433600e+13</td>\n",
       "      <td>5.725634e+06</td>\n",
       "      <td>56.000000</td>\n",
       "      <td>14.000000</td>\n",
       "    </tr>\n",
       "    <tr>\n",
       "      <th>max</th>\n",
       "      <td>9.999816e+14</td>\n",
       "      <td>5.790484e+06</td>\n",
       "      <td>115.000000</td>\n",
       "      <td>179.000000</td>\n",
       "    </tr>\n",
       "  </tbody>\n",
       "</table>\n",
       "</div>"
      ],
      "text/plain": [
       "          PatientId  AppointmentID            Age      Date.diff\n",
       "count  1.069870e+05   1.069870e+05  106987.000000  106987.000000\n",
       "mean   1.472814e+14   5.675434e+06      38.316085      10.166721\n",
       "std    2.558267e+14   7.133274e+04      22.466214      15.263508\n",
       "min    3.921784e+04   5.030230e+06       1.000000      -6.000000\n",
       "25%    4.173523e+12   5.640490e+06      19.000000       0.000000\n",
       "50%    3.172463e+13   5.680744e+06      38.000000       4.000000\n",
       "75%    9.433600e+13   5.725634e+06      56.000000      14.000000\n",
       "max    9.999816e+14   5.790484e+06     115.000000     179.000000"
      ]
     },
     "execution_count": 10,
     "metadata": {},
     "output_type": "execute_result"
    }
   ],
   "source": [
    "#descrição dos dados matemáticos(conta, média, desvio- padrão, minimo,...)\n",
    "df.describe()"
   ]
  },
  {
   "cell_type": "code",
   "execution_count": 11,
   "metadata": {},
   "outputs": [
    {
     "name": "stdout",
     "output_type": "stream",
     "text": [
      "<class 'pandas.core.frame.DataFrame'>\n",
      "RangeIndex: 106987 entries, 0 to 106986\n",
      "Data columns (total 15 columns):\n",
      " #   Column          Non-Null Count   Dtype  \n",
      "---  ------          --------------   -----  \n",
      " 0   PatientId       106987 non-null  float64\n",
      " 1   AppointmentID   106987 non-null  int64  \n",
      " 2   Gender          106987 non-null  object \n",
      " 3   ScheduledDay    106987 non-null  object \n",
      " 4   AppointmentDay  106987 non-null  object \n",
      " 5   Age             106987 non-null  int64  \n",
      " 6   Neighbourhood   106987 non-null  object \n",
      " 7   Scholarship     106987 non-null  bool   \n",
      " 8   Hipertension    106987 non-null  bool   \n",
      " 9   Diabetes        106987 non-null  bool   \n",
      " 10  Alcoholism      106987 non-null  bool   \n",
      " 11  Handcap         106987 non-null  bool   \n",
      " 12  SMS_received    106987 non-null  bool   \n",
      " 13  Showed_up       106987 non-null  bool   \n",
      " 14  Date.diff       106987 non-null  int64  \n",
      "dtypes: bool(7), float64(1), int64(3), object(4)\n",
      "memory usage: 7.2+ MB\n",
      "None\n"
     ]
    }
   ],
   "source": [
    "#Verificação das informações, um resumo das principais informações do DF, salvas no DF original\n",
    "info_df = df.info()\n",
    "print(info_df)\n",
    "# RangeIndex: Indica o tipo de índice do DF (neste caso, um índice numérico)\n",
    "# Quantidade total de colunas, lista com os nomes das colunas, o tipo de dado armazenado, quant de memória e quantos valores esão preenchidos."
   ]
  },
  {
   "cell_type": "code",
   "execution_count": 12,
   "metadata": {},
   "outputs": [],
   "source": [
    "#Remover linhas duplicadas, mas tem outra opção da aula passada \n",
    "df = df.drop_duplicates() #salva a informação de exclução dentro desta variável, apaga\n",
    "# Cria um novo DF com as duplicatas removidas. \n",
    "# O DF original permanece inalterado.\n",
    "# É necessário atribuir o resultado a uma nova variável (neste caso, df) para usar o DF modificado."
   ]
  },
  {
   "cell_type": "code",
   "execution_count": 13,
   "metadata": {},
   "outputs": [
    {
     "data": {
      "text/plain": [
       "(106987, 15)"
      ]
     },
     "execution_count": 13,
     "metadata": {},
     "output_type": "execute_result"
    }
   ],
   "source": [
    "#confirmar as alterações da remoção das linhas duplicadas, equivalente ao inplace \n",
    "df.shape"
   ]
  },
  {
   "cell_type": "code",
   "execution_count": 14,
   "metadata": {},
   "outputs": [],
   "source": [
    "#Resertar index (true irá apagar, só teste pois n tem na planilha\n",
    "df = df.reset_index(drop=False)\n",
    "# resert: redefine o índice do DF, atribuindo-lhe uma sequência numérica contínua começando de 0.\n",
    "# É útil quando você precisa trabalhar com um índice numérico simples e contínuo em um DataFrame.\n",
    "# Ela é frequentemente usada antes de operações que dependem de um índice numérico, como o acesso a elementos por localização ou o agrupamento.\n",
    "# Ao usar drop=True, você evita a criação de uma coluna adicional que pode ser desnecessária."
   ]
  },
  {
   "cell_type": "code",
   "execution_count": 15,
   "metadata": {},
   "outputs": [
    {
     "data": {
      "text/html": [
       "<div>\n",
       "<style scoped>\n",
       "    .dataframe tbody tr th:only-of-type {\n",
       "        vertical-align: middle;\n",
       "    }\n",
       "\n",
       "    .dataframe tbody tr th {\n",
       "        vertical-align: top;\n",
       "    }\n",
       "\n",
       "    .dataframe thead th {\n",
       "        text-align: right;\n",
       "    }\n",
       "</style>\n",
       "<table border=\"1\" class=\"dataframe\">\n",
       "  <thead>\n",
       "    <tr style=\"text-align: right;\">\n",
       "      <th></th>\n",
       "      <th>index</th>\n",
       "      <th>PatientId</th>\n",
       "      <th>AppointmentID</th>\n",
       "      <th>Gender</th>\n",
       "      <th>ScheduledDay</th>\n",
       "      <th>AppointmentDay</th>\n",
       "      <th>Age</th>\n",
       "      <th>Neighbourhood</th>\n",
       "      <th>Scholarship</th>\n",
       "      <th>Hipertension</th>\n",
       "      <th>Diabetes</th>\n",
       "      <th>Alcoholism</th>\n",
       "      <th>Handcap</th>\n",
       "      <th>SMS_received</th>\n",
       "      <th>Showed_up</th>\n",
       "      <th>Date.diff</th>\n",
       "    </tr>\n",
       "  </thead>\n",
       "  <tbody>\n",
       "    <tr>\n",
       "      <th>0</th>\n",
       "      <td>0</td>\n",
       "      <td>2.987250e+13</td>\n",
       "      <td>5642903</td>\n",
       "      <td>F</td>\n",
       "      <td>2016-04-29</td>\n",
       "      <td>2016-04-29</td>\n",
       "      <td>62</td>\n",
       "      <td>JARDIM DA PENHA</td>\n",
       "      <td>False</td>\n",
       "      <td>True</td>\n",
       "      <td>False</td>\n",
       "      <td>False</td>\n",
       "      <td>False</td>\n",
       "      <td>False</td>\n",
       "      <td>True</td>\n",
       "      <td>0</td>\n",
       "    </tr>\n",
       "    <tr>\n",
       "      <th>1</th>\n",
       "      <td>1</td>\n",
       "      <td>5.589978e+14</td>\n",
       "      <td>5642503</td>\n",
       "      <td>M</td>\n",
       "      <td>2016-04-29</td>\n",
       "      <td>2016-04-29</td>\n",
       "      <td>56</td>\n",
       "      <td>JARDIM DA PENHA</td>\n",
       "      <td>False</td>\n",
       "      <td>False</td>\n",
       "      <td>False</td>\n",
       "      <td>False</td>\n",
       "      <td>False</td>\n",
       "      <td>False</td>\n",
       "      <td>True</td>\n",
       "      <td>0</td>\n",
       "    </tr>\n",
       "    <tr>\n",
       "      <th>2</th>\n",
       "      <td>2</td>\n",
       "      <td>4.262962e+12</td>\n",
       "      <td>5642549</td>\n",
       "      <td>F</td>\n",
       "      <td>2016-04-29</td>\n",
       "      <td>2016-04-29</td>\n",
       "      <td>62</td>\n",
       "      <td>MATA DA PRAIA</td>\n",
       "      <td>False</td>\n",
       "      <td>False</td>\n",
       "      <td>False</td>\n",
       "      <td>False</td>\n",
       "      <td>False</td>\n",
       "      <td>False</td>\n",
       "      <td>True</td>\n",
       "      <td>0</td>\n",
       "    </tr>\n",
       "    <tr>\n",
       "      <th>3</th>\n",
       "      <td>3</td>\n",
       "      <td>8.679512e+11</td>\n",
       "      <td>5642828</td>\n",
       "      <td>F</td>\n",
       "      <td>2016-04-29</td>\n",
       "      <td>2016-04-29</td>\n",
       "      <td>8</td>\n",
       "      <td>PONTAL DE CAMBURI</td>\n",
       "      <td>False</td>\n",
       "      <td>False</td>\n",
       "      <td>False</td>\n",
       "      <td>False</td>\n",
       "      <td>False</td>\n",
       "      <td>False</td>\n",
       "      <td>True</td>\n",
       "      <td>0</td>\n",
       "    </tr>\n",
       "    <tr>\n",
       "      <th>4</th>\n",
       "      <td>4</td>\n",
       "      <td>8.841186e+12</td>\n",
       "      <td>5642494</td>\n",
       "      <td>F</td>\n",
       "      <td>2016-04-29</td>\n",
       "      <td>2016-04-29</td>\n",
       "      <td>56</td>\n",
       "      <td>JARDIM DA PENHA</td>\n",
       "      <td>False</td>\n",
       "      <td>True</td>\n",
       "      <td>True</td>\n",
       "      <td>False</td>\n",
       "      <td>False</td>\n",
       "      <td>False</td>\n",
       "      <td>True</td>\n",
       "      <td>0</td>\n",
       "    </tr>\n",
       "  </tbody>\n",
       "</table>\n",
       "</div>"
      ],
      "text/plain": [
       "   index     PatientId  AppointmentID Gender ScheduledDay AppointmentDay  Age  \\\n",
       "0      0  2.987250e+13        5642903      F   2016-04-29     2016-04-29   62   \n",
       "1      1  5.589978e+14        5642503      M   2016-04-29     2016-04-29   56   \n",
       "2      2  4.262962e+12        5642549      F   2016-04-29     2016-04-29   62   \n",
       "3      3  8.679512e+11        5642828      F   2016-04-29     2016-04-29    8   \n",
       "4      4  8.841186e+12        5642494      F   2016-04-29     2016-04-29   56   \n",
       "\n",
       "       Neighbourhood  Scholarship  Hipertension  Diabetes  Alcoholism  \\\n",
       "0    JARDIM DA PENHA        False          True     False       False   \n",
       "1    JARDIM DA PENHA        False         False     False       False   \n",
       "2      MATA DA PRAIA        False         False     False       False   \n",
       "3  PONTAL DE CAMBURI        False         False     False       False   \n",
       "4    JARDIM DA PENHA        False          True      True       False   \n",
       "\n",
       "   Handcap  SMS_received  Showed_up  Date.diff  \n",
       "0    False         False       True          0  \n",
       "1    False         False       True          0  \n",
       "2    False         False       True          0  \n",
       "3    False         False       True          0  \n",
       "4    False         False       True          0  "
      ]
     },
     "execution_count": 15,
     "metadata": {},
     "output_type": "execute_result"
    }
   ],
   "source": [
    "df.head()"
   ]
  },
  {
   "cell_type": "code",
   "execution_count": 16,
   "metadata": {},
   "outputs": [],
   "source": [
    "#Renomear as Colunas\n",
    "df.rename(columns={ \n",
    "    'index': 'Id', \n",
    "    'PatientId': 'Id_Paciente', \n",
    "    'AppointmentID': 'Id_Consulta', \n",
    "    'Gender': 'Gênero', \n",
    "    'ScheduledDay': 'Dia_Agendamento', \n",
    "    'AppointmentDay': 'Dia_Consulta', \n",
    "    'Age': 'Idade',\n",
    "    'Neighbourhood': 'Cidade', \n",
    "    'Scholarship': 'Bolsa_Estudo', \n",
    "    'Hipertension': 'Hipertensão',\n",
    "    'Diabetes': 'Diabetes',\n",
    "    'Alcoholism': 'Alcoolismo',\n",
    "    'Handcap': 'Deficiente',\n",
    "    'SMS_received': 'SMS_recebido',\n",
    "    'Showed_up': 'Recebido_up',\n",
    "    'Date.diff': 'Data_diff'\n",
    "    }, inplace=True)"
   ]
  },
  {
   "cell_type": "code",
   "execution_count": 17,
   "metadata": {},
   "outputs": [
    {
     "data": {
      "text/plain": [
       "(106987, 16)"
      ]
     },
     "execution_count": 17,
     "metadata": {},
     "output_type": "execute_result"
    }
   ],
   "source": [
    "df.shape"
   ]
  },
  {
   "cell_type": "code",
   "execution_count": 18,
   "metadata": {},
   "outputs": [
    {
     "data": {
      "text/plain": [
       "Index(['Id', 'Id_Paciente', 'Id_Consulta', 'Gênero', 'Dia_Agendamento',\n",
       "       'Dia_Consulta', 'Idade', 'Cidade', 'Bolsa_Estudo', 'Hipertensão',\n",
       "       'Diabetes', 'Alcoolismo', 'Deficiente', 'SMS_recebido', 'Recebido_up',\n",
       "       'Data_diff'],\n",
       "      dtype='object')"
      ]
     },
     "execution_count": 18,
     "metadata": {},
     "output_type": "execute_result"
    }
   ],
   "source": [
    "df.columns #verificar os nomes das colunas p a próxima etapa"
   ]
  },
  {
   "cell_type": "code",
   "execution_count": 20,
   "metadata": {},
   "outputs": [],
   "source": [
    "#Apagar colunas no DF\n",
    "df = df.drop(columns=[\"Bolsa_Estudo\", \"SMS_recebido\", \"Recebido_up\", \"Data_diff\"])"
   ]
  },
  {
   "cell_type": "code",
   "execution_count": 21,
   "metadata": {},
   "outputs": [
    {
     "data": {
      "text/html": [
       "<div>\n",
       "<style scoped>\n",
       "    .dataframe tbody tr th:only-of-type {\n",
       "        vertical-align: middle;\n",
       "    }\n",
       "\n",
       "    .dataframe tbody tr th {\n",
       "        vertical-align: top;\n",
       "    }\n",
       "\n",
       "    .dataframe thead th {\n",
       "        text-align: right;\n",
       "    }\n",
       "</style>\n",
       "<table border=\"1\" class=\"dataframe\">\n",
       "  <thead>\n",
       "    <tr style=\"text-align: right;\">\n",
       "      <th></th>\n",
       "      <th>Id</th>\n",
       "      <th>Id_Paciente</th>\n",
       "      <th>Id_Consulta</th>\n",
       "      <th>Gênero</th>\n",
       "      <th>Dia_Agendamento</th>\n",
       "      <th>Dia_Consulta</th>\n",
       "      <th>Idade</th>\n",
       "      <th>Cidade</th>\n",
       "      <th>Hipertensão</th>\n",
       "      <th>Diabetes</th>\n",
       "      <th>Alcoolismo</th>\n",
       "      <th>Deficiente</th>\n",
       "    </tr>\n",
       "  </thead>\n",
       "  <tbody>\n",
       "    <tr>\n",
       "      <th>0</th>\n",
       "      <td>0</td>\n",
       "      <td>2.987250e+13</td>\n",
       "      <td>5642903</td>\n",
       "      <td>F</td>\n",
       "      <td>2016-04-29</td>\n",
       "      <td>2016-04-29</td>\n",
       "      <td>62</td>\n",
       "      <td>JARDIM DA PENHA</td>\n",
       "      <td>True</td>\n",
       "      <td>False</td>\n",
       "      <td>False</td>\n",
       "      <td>False</td>\n",
       "    </tr>\n",
       "    <tr>\n",
       "      <th>1</th>\n",
       "      <td>1</td>\n",
       "      <td>5.589978e+14</td>\n",
       "      <td>5642503</td>\n",
       "      <td>M</td>\n",
       "      <td>2016-04-29</td>\n",
       "      <td>2016-04-29</td>\n",
       "      <td>56</td>\n",
       "      <td>JARDIM DA PENHA</td>\n",
       "      <td>False</td>\n",
       "      <td>False</td>\n",
       "      <td>False</td>\n",
       "      <td>False</td>\n",
       "    </tr>\n",
       "    <tr>\n",
       "      <th>2</th>\n",
       "      <td>2</td>\n",
       "      <td>4.262962e+12</td>\n",
       "      <td>5642549</td>\n",
       "      <td>F</td>\n",
       "      <td>2016-04-29</td>\n",
       "      <td>2016-04-29</td>\n",
       "      <td>62</td>\n",
       "      <td>MATA DA PRAIA</td>\n",
       "      <td>False</td>\n",
       "      <td>False</td>\n",
       "      <td>False</td>\n",
       "      <td>False</td>\n",
       "    </tr>\n",
       "    <tr>\n",
       "      <th>3</th>\n",
       "      <td>3</td>\n",
       "      <td>8.679512e+11</td>\n",
       "      <td>5642828</td>\n",
       "      <td>F</td>\n",
       "      <td>2016-04-29</td>\n",
       "      <td>2016-04-29</td>\n",
       "      <td>8</td>\n",
       "      <td>PONTAL DE CAMBURI</td>\n",
       "      <td>False</td>\n",
       "      <td>False</td>\n",
       "      <td>False</td>\n",
       "      <td>False</td>\n",
       "    </tr>\n",
       "    <tr>\n",
       "      <th>4</th>\n",
       "      <td>4</td>\n",
       "      <td>8.841186e+12</td>\n",
       "      <td>5642494</td>\n",
       "      <td>F</td>\n",
       "      <td>2016-04-29</td>\n",
       "      <td>2016-04-29</td>\n",
       "      <td>56</td>\n",
       "      <td>JARDIM DA PENHA</td>\n",
       "      <td>True</td>\n",
       "      <td>True</td>\n",
       "      <td>False</td>\n",
       "      <td>False</td>\n",
       "    </tr>\n",
       "    <tr>\n",
       "      <th>5</th>\n",
       "      <td>5</td>\n",
       "      <td>9.598513e+13</td>\n",
       "      <td>5626772</td>\n",
       "      <td>F</td>\n",
       "      <td>2016-04-27</td>\n",
       "      <td>2016-04-29</td>\n",
       "      <td>76</td>\n",
       "      <td>REPÚBLICA</td>\n",
       "      <td>True</td>\n",
       "      <td>False</td>\n",
       "      <td>False</td>\n",
       "      <td>False</td>\n",
       "    </tr>\n",
       "    <tr>\n",
       "      <th>6</th>\n",
       "      <td>6</td>\n",
       "      <td>7.336882e+14</td>\n",
       "      <td>5630279</td>\n",
       "      <td>F</td>\n",
       "      <td>2016-04-27</td>\n",
       "      <td>2016-04-29</td>\n",
       "      <td>23</td>\n",
       "      <td>GOIABEIRAS</td>\n",
       "      <td>False</td>\n",
       "      <td>False</td>\n",
       "      <td>False</td>\n",
       "      <td>False</td>\n",
       "    </tr>\n",
       "    <tr>\n",
       "      <th>7</th>\n",
       "      <td>7</td>\n",
       "      <td>3.449833e+12</td>\n",
       "      <td>5630575</td>\n",
       "      <td>F</td>\n",
       "      <td>2016-04-27</td>\n",
       "      <td>2016-04-29</td>\n",
       "      <td>39</td>\n",
       "      <td>GOIABEIRAS</td>\n",
       "      <td>False</td>\n",
       "      <td>False</td>\n",
       "      <td>False</td>\n",
       "      <td>False</td>\n",
       "    </tr>\n",
       "    <tr>\n",
       "      <th>8</th>\n",
       "      <td>8</td>\n",
       "      <td>5.639473e+13</td>\n",
       "      <td>5638447</td>\n",
       "      <td>F</td>\n",
       "      <td>2016-04-29</td>\n",
       "      <td>2016-04-29</td>\n",
       "      <td>21</td>\n",
       "      <td>ANDORINHAS</td>\n",
       "      <td>False</td>\n",
       "      <td>False</td>\n",
       "      <td>False</td>\n",
       "      <td>False</td>\n",
       "    </tr>\n",
       "    <tr>\n",
       "      <th>9</th>\n",
       "      <td>9</td>\n",
       "      <td>7.812456e+13</td>\n",
       "      <td>5629123</td>\n",
       "      <td>F</td>\n",
       "      <td>2016-04-27</td>\n",
       "      <td>2016-04-29</td>\n",
       "      <td>19</td>\n",
       "      <td>CONQUISTA</td>\n",
       "      <td>False</td>\n",
       "      <td>False</td>\n",
       "      <td>False</td>\n",
       "      <td>False</td>\n",
       "    </tr>\n",
       "  </tbody>\n",
       "</table>\n",
       "</div>"
      ],
      "text/plain": [
       "   Id   Id_Paciente  Id_Consulta Gênero Dia_Agendamento Dia_Consulta  Idade  \\\n",
       "0   0  2.987250e+13      5642903      F      2016-04-29   2016-04-29     62   \n",
       "1   1  5.589978e+14      5642503      M      2016-04-29   2016-04-29     56   \n",
       "2   2  4.262962e+12      5642549      F      2016-04-29   2016-04-29     62   \n",
       "3   3  8.679512e+11      5642828      F      2016-04-29   2016-04-29      8   \n",
       "4   4  8.841186e+12      5642494      F      2016-04-29   2016-04-29     56   \n",
       "5   5  9.598513e+13      5626772      F      2016-04-27   2016-04-29     76   \n",
       "6   6  7.336882e+14      5630279      F      2016-04-27   2016-04-29     23   \n",
       "7   7  3.449833e+12      5630575      F      2016-04-27   2016-04-29     39   \n",
       "8   8  5.639473e+13      5638447      F      2016-04-29   2016-04-29     21   \n",
       "9   9  7.812456e+13      5629123      F      2016-04-27   2016-04-29     19   \n",
       "\n",
       "              Cidade  Hipertensão  Diabetes  Alcoolismo  Deficiente  \n",
       "0    JARDIM DA PENHA         True     False       False       False  \n",
       "1    JARDIM DA PENHA        False     False       False       False  \n",
       "2      MATA DA PRAIA        False     False       False       False  \n",
       "3  PONTAL DE CAMBURI        False     False       False       False  \n",
       "4    JARDIM DA PENHA         True      True       False       False  \n",
       "5          REPÚBLICA         True     False       False       False  \n",
       "6         GOIABEIRAS        False     False       False       False  \n",
       "7         GOIABEIRAS        False     False       False       False  \n",
       "8         ANDORINHAS        False     False       False       False  \n",
       "9          CONQUISTA        False     False       False       False  "
      ]
     },
     "execution_count": 21,
     "metadata": {},
     "output_type": "execute_result"
    }
   ],
   "source": [
    "df.head(10)"
   ]
  },
  {
   "cell_type": "code",
   "execution_count": 23,
   "metadata": {},
   "outputs": [
    {
     "name": "stdout",
     "output_type": "stream",
     "text": [
      "0         29/04/2016\n",
      "1         29/04/2016\n",
      "2         29/04/2016\n",
      "3         29/04/2016\n",
      "4         29/04/2016\n",
      "             ...    \n",
      "106982    03/05/2016\n",
      "106983    03/05/2016\n",
      "106984    27/04/2016\n",
      "106985    27/04/2016\n",
      "106986    27/04/2016\n",
      "Name: Dia_Agendamento, Length: 106987, dtype: object\n"
     ]
    }
   ],
   "source": [
    "# Convertendo a coluna 'Dia_Agendamento' para o formato datetime, depois pode usar o método dt.strftime() para formatar a data para a saída desejada\n",
    "df[\"Dia_Agendamento\"] = pd.to_datetime(df[\"Dia_Agendamento\"], format=\"mixed\")\n",
    "df['Dia_Agendamento'] = df['Dia_Agendamento'].dt.strftime('%d/%m/%Y') # Convertendo o formato da data para Dia/Mês/Ano)\n",
    "print(df['Dia_Agendamento'])\n"
   ]
  },
  {
   "cell_type": "code",
   "execution_count": 25,
   "metadata": {},
   "outputs": [
    {
     "name": "stdout",
     "output_type": "stream",
     "text": [
      "0         29/04/2016\n",
      "1         29/04/2016\n",
      "2         29/04/2016\n",
      "3         29/04/2016\n",
      "4         29/04/2016\n",
      "             ...    \n",
      "106982    07/06/2016\n",
      "106983    07/06/2016\n",
      "106984    07/06/2016\n",
      "106985    07/06/2016\n",
      "106986    07/06/2016\n",
      "Name: Dia_Consulta, Length: 106987, dtype: object\n"
     ]
    }
   ],
   "source": [
    "# Convertendo a coluna 'Dia_Consulta' para o formato datetime, depois pode usar o método dt.strftime() para formatar a data para a saída desejada\n",
    "df['Dia_Consulta'] = pd.to_datetime(df['Dia_Consulta'], format=\"mixed\")\n",
    "df['Dia_Consulta'] = df['Dia_Consulta'].dt.strftime('%d/%m/%Y') # Convertendo o formato da data para Dia/Mês/Ano)\n",
    "print(df['Dia_Consulta'])\n"
   ]
  },
  {
   "cell_type": "code",
   "execution_count": 27,
   "metadata": {},
   "outputs": [
    {
     "data": {
      "text/html": [
       "<div>\n",
       "<style scoped>\n",
       "    .dataframe tbody tr th:only-of-type {\n",
       "        vertical-align: middle;\n",
       "    }\n",
       "\n",
       "    .dataframe tbody tr th {\n",
       "        vertical-align: top;\n",
       "    }\n",
       "\n",
       "    .dataframe thead th {\n",
       "        text-align: right;\n",
       "    }\n",
       "</style>\n",
       "<table border=\"1\" class=\"dataframe\">\n",
       "  <thead>\n",
       "    <tr style=\"text-align: right;\">\n",
       "      <th></th>\n",
       "      <th>Id</th>\n",
       "      <th>Id_Paciente</th>\n",
       "      <th>Id_Consulta</th>\n",
       "      <th>Gênero</th>\n",
       "      <th>Dia_Agendamento</th>\n",
       "      <th>Dia_Consulta</th>\n",
       "      <th>Idade</th>\n",
       "      <th>Cidade</th>\n",
       "      <th>Hipertensão</th>\n",
       "      <th>Diabetes</th>\n",
       "      <th>Alcoolismo</th>\n",
       "      <th>Deficiente</th>\n",
       "    </tr>\n",
       "  </thead>\n",
       "  <tbody>\n",
       "    <tr>\n",
       "      <th>0</th>\n",
       "      <td>0</td>\n",
       "      <td>2.987250e+13</td>\n",
       "      <td>5642903</td>\n",
       "      <td>F</td>\n",
       "      <td>29/04/2016</td>\n",
       "      <td>29/04/2016</td>\n",
       "      <td>62</td>\n",
       "      <td>JARDIM DA PENHA</td>\n",
       "      <td>True</td>\n",
       "      <td>False</td>\n",
       "      <td>False</td>\n",
       "      <td>False</td>\n",
       "    </tr>\n",
       "    <tr>\n",
       "      <th>1</th>\n",
       "      <td>1</td>\n",
       "      <td>5.589978e+14</td>\n",
       "      <td>5642503</td>\n",
       "      <td>M</td>\n",
       "      <td>29/04/2016</td>\n",
       "      <td>29/04/2016</td>\n",
       "      <td>56</td>\n",
       "      <td>JARDIM DA PENHA</td>\n",
       "      <td>False</td>\n",
       "      <td>False</td>\n",
       "      <td>False</td>\n",
       "      <td>False</td>\n",
       "    </tr>\n",
       "    <tr>\n",
       "      <th>2</th>\n",
       "      <td>2</td>\n",
       "      <td>4.262962e+12</td>\n",
       "      <td>5642549</td>\n",
       "      <td>F</td>\n",
       "      <td>29/04/2016</td>\n",
       "      <td>29/04/2016</td>\n",
       "      <td>62</td>\n",
       "      <td>MATA DA PRAIA</td>\n",
       "      <td>False</td>\n",
       "      <td>False</td>\n",
       "      <td>False</td>\n",
       "      <td>False</td>\n",
       "    </tr>\n",
       "    <tr>\n",
       "      <th>3</th>\n",
       "      <td>3</td>\n",
       "      <td>8.679512e+11</td>\n",
       "      <td>5642828</td>\n",
       "      <td>F</td>\n",
       "      <td>29/04/2016</td>\n",
       "      <td>29/04/2016</td>\n",
       "      <td>8</td>\n",
       "      <td>PONTAL DE CAMBURI</td>\n",
       "      <td>False</td>\n",
       "      <td>False</td>\n",
       "      <td>False</td>\n",
       "      <td>False</td>\n",
       "    </tr>\n",
       "    <tr>\n",
       "      <th>4</th>\n",
       "      <td>4</td>\n",
       "      <td>8.841186e+12</td>\n",
       "      <td>5642494</td>\n",
       "      <td>F</td>\n",
       "      <td>29/04/2016</td>\n",
       "      <td>29/04/2016</td>\n",
       "      <td>56</td>\n",
       "      <td>JARDIM DA PENHA</td>\n",
       "      <td>True</td>\n",
       "      <td>True</td>\n",
       "      <td>False</td>\n",
       "      <td>False</td>\n",
       "    </tr>\n",
       "    <tr>\n",
       "      <th>5</th>\n",
       "      <td>5</td>\n",
       "      <td>9.598513e+13</td>\n",
       "      <td>5626772</td>\n",
       "      <td>F</td>\n",
       "      <td>27/04/2016</td>\n",
       "      <td>29/04/2016</td>\n",
       "      <td>76</td>\n",
       "      <td>REPÚBLICA</td>\n",
       "      <td>True</td>\n",
       "      <td>False</td>\n",
       "      <td>False</td>\n",
       "      <td>False</td>\n",
       "    </tr>\n",
       "    <tr>\n",
       "      <th>6</th>\n",
       "      <td>6</td>\n",
       "      <td>7.336882e+14</td>\n",
       "      <td>5630279</td>\n",
       "      <td>F</td>\n",
       "      <td>27/04/2016</td>\n",
       "      <td>29/04/2016</td>\n",
       "      <td>23</td>\n",
       "      <td>GOIABEIRAS</td>\n",
       "      <td>False</td>\n",
       "      <td>False</td>\n",
       "      <td>False</td>\n",
       "      <td>False</td>\n",
       "    </tr>\n",
       "    <tr>\n",
       "      <th>7</th>\n",
       "      <td>7</td>\n",
       "      <td>3.449833e+12</td>\n",
       "      <td>5630575</td>\n",
       "      <td>F</td>\n",
       "      <td>27/04/2016</td>\n",
       "      <td>29/04/2016</td>\n",
       "      <td>39</td>\n",
       "      <td>GOIABEIRAS</td>\n",
       "      <td>False</td>\n",
       "      <td>False</td>\n",
       "      <td>False</td>\n",
       "      <td>False</td>\n",
       "    </tr>\n",
       "    <tr>\n",
       "      <th>8</th>\n",
       "      <td>8</td>\n",
       "      <td>5.639473e+13</td>\n",
       "      <td>5638447</td>\n",
       "      <td>F</td>\n",
       "      <td>29/04/2016</td>\n",
       "      <td>29/04/2016</td>\n",
       "      <td>21</td>\n",
       "      <td>ANDORINHAS</td>\n",
       "      <td>False</td>\n",
       "      <td>False</td>\n",
       "      <td>False</td>\n",
       "      <td>False</td>\n",
       "    </tr>\n",
       "    <tr>\n",
       "      <th>9</th>\n",
       "      <td>9</td>\n",
       "      <td>7.812456e+13</td>\n",
       "      <td>5629123</td>\n",
       "      <td>F</td>\n",
       "      <td>27/04/2016</td>\n",
       "      <td>29/04/2016</td>\n",
       "      <td>19</td>\n",
       "      <td>CONQUISTA</td>\n",
       "      <td>False</td>\n",
       "      <td>False</td>\n",
       "      <td>False</td>\n",
       "      <td>False</td>\n",
       "    </tr>\n",
       "  </tbody>\n",
       "</table>\n",
       "</div>"
      ],
      "text/plain": [
       "   Id   Id_Paciente  Id_Consulta Gênero Dia_Agendamento Dia_Consulta  Idade  \\\n",
       "0   0  2.987250e+13      5642903      F      29/04/2016   29/04/2016     62   \n",
       "1   1  5.589978e+14      5642503      M      29/04/2016   29/04/2016     56   \n",
       "2   2  4.262962e+12      5642549      F      29/04/2016   29/04/2016     62   \n",
       "3   3  8.679512e+11      5642828      F      29/04/2016   29/04/2016      8   \n",
       "4   4  8.841186e+12      5642494      F      29/04/2016   29/04/2016     56   \n",
       "5   5  9.598513e+13      5626772      F      27/04/2016   29/04/2016     76   \n",
       "6   6  7.336882e+14      5630279      F      27/04/2016   29/04/2016     23   \n",
       "7   7  3.449833e+12      5630575      F      27/04/2016   29/04/2016     39   \n",
       "8   8  5.639473e+13      5638447      F      29/04/2016   29/04/2016     21   \n",
       "9   9  7.812456e+13      5629123      F      27/04/2016   29/04/2016     19   \n",
       "\n",
       "              Cidade  Hipertensão  Diabetes  Alcoolismo  Deficiente  \n",
       "0    JARDIM DA PENHA         True     False       False       False  \n",
       "1    JARDIM DA PENHA        False     False       False       False  \n",
       "2      MATA DA PRAIA        False     False       False       False  \n",
       "3  PONTAL DE CAMBURI        False     False       False       False  \n",
       "4    JARDIM DA PENHA         True      True       False       False  \n",
       "5          REPÚBLICA         True     False       False       False  \n",
       "6         GOIABEIRAS        False     False       False       False  \n",
       "7         GOIABEIRAS        False     False       False       False  \n",
       "8         ANDORINHAS        False     False       False       False  \n",
       "9          CONQUISTA        False     False       False       False  "
      ]
     },
     "execution_count": 27,
     "metadata": {},
     "output_type": "execute_result"
    }
   ],
   "source": [
    "df.head(10)"
   ]
  },
  {
   "cell_type": "code",
   "execution_count": 28,
   "metadata": {},
   "outputs": [],
   "source": [
    "#Salvar no CSV - \n",
    "df.to_csv(\"cuidadosdesaude_tratado.csv\", index=False)"
   ]
  },
  {
   "cell_type": "markdown",
   "metadata": {},
   "source": [
    "Análises"
   ]
  },
  {
   "cell_type": "code",
   "execution_count": 77,
   "metadata": {},
   "outputs": [
    {
     "name": "stderr",
     "output_type": "stream",
     "text": [
      "C:\\Users\\flavi_000\\AppData\\Local\\Temp\\ipykernel_5172\\163092064.py:11: FutureWarning: The default of observed=False is deprecated and will be changed to True in a future version of pandas. Pass observed=False to retain current behavior or observed=True to adopt the future default and silence this warning.\n",
      "  contagem_por_faixa = df.groupby('Faixa_Etaria')['Dia_Consulta'].count()\n"
     ]
    },
    {
     "data": {
      "image/png": "[encoded data removed]",
      "text/plain": [
       "<Figure size 640x480 with 1 Axes>"
      ]
     },
     "metadata": {},
     "output_type": "display_data"
    }
   ],
   "source": [
    "#Qual a faixa de idade que marcaram consultas?\n",
    "\n",
    "# Definindo listas com os limites de cada faixa etária e seus rótulos\n",
    "faixas_etarias = [0, 18, 30, 45, 60, 100]\n",
    "labels = ['0-17', '18-29', '30-44', '45-59', '60+'] \n",
    "\n",
    "# Criando uma nova coluna com as faixas etárias, bins define os limites das faixas\n",
    "df['Faixa_Etaria'] = pd.cut(df['Idade'], bins=faixas_etarias, labels=labels)\n",
    "\n",
    "# Agrupando os dados por faixa etária e contando as consultas\n",
    "contagem_por_faixa = df.groupby('Faixa_Etaria')['Dia_Consulta'].count()\n",
    "\n",
    "# Criando o gráfico de barras\n",
    "contagem_por_faixa.plot(kind='bar', color='maroon', edgecolor='black')\n",
    "\n",
    "# Configurando o gráfico\n",
    "plt.title('Número de Consultas por Faixa Etária')\n",
    "plt.xlabel('Faixa Etária')\n",
    "plt.ylabel('Quantidade de Consultas')\n",
    "\n",
    "plt.show()\n",
    "\n",
    "# df.groupby('Faixa_Etaria'): Agrupa os dados do DataFrame por 'Faixa_Etaria'.\n",
    "# ['Dia_Consulta'].count(): Conta a quantidade de valores não-nulos na coluna 'Dia_Consulta' para cada grupo (faixa etária).\n",
    "# contagem_por_faixa: Armazena o resultado em uma nova série, onde o índice são as faixas etárias e os valores são as contagens de consultas.\n",
    "\n"
   ]
  },
  {
   "cell_type": "code",
   "execution_count": 104,
   "metadata": {},
   "outputs": [
    {
     "data": {
      "image/png": "[encoded data removed]",
      "text/plain": [
       "<Figure size 1000x500 with 1 Axes>"
      ]
     },
     "metadata": {},
     "output_type": "display_data"
    }
   ],
   "source": [
    "# Qual a faixa de idade dos pacientes?\n",
    "\n",
    " # Criando gráfico no formato de histograma\n",
    "df[['Idade']].hist(bins=30, figsize=(10, 5), color = 'lightcoral', edgecolor='black')\n",
    "plt.title('Distribuição da Idade dos Pacientes')\n",
    "plt.xlabel('Faixa de Idade')\n",
    "plt.ylabel('Quantidade de Pacientes')\n",
    "plt.show()"
   ]
  },
  {
   "cell_type": "code",
   "execution_count": 101,
   "metadata": {},
   "outputs": [
    {
     "data": {
      "image/png": "[encoded data removed]",
      "text/plain": [
       "<Figure size 640x480 with 1 Axes>"
      ]
     },
     "metadata": {},
     "output_type": "display_data"
    }
   ],
   "source": [
    "# Qual a taxa de pacientes por gênero ?\n",
    "\n",
    "# Agrupando os dados por gênero e contando a quantidade de pacientes\n",
    "contagem_por_genero = df.groupby('Gênero').size() #contar o número de linhas em cada grupo\n",
    "\n",
    "#criando gáfico de pizza\n",
    "contagem_por_genero.plot(kind='pie', autopct='%1.1f%%')\n",
    "#plt.legend()\n",
    "plt.legend(title= 'Feminino e Masculino',loc='upper right', bbox_to_anchor=(1.5, 1.0))\n",
    "plt.title('Proporção de Pacientes por Gênero')\n",
    "plt.show()\n"
   ]
  },
  {
   "attachments": {},
   "cell_type": "markdown",
   "metadata": {},
   "source": [
    "TESTES"
   ]
  },
  {
   "cell_type": "code",
   "execution_count": 109,
   "metadata": {},
   "outputs": [
    {
     "name": "stdout",
     "output_type": "stream",
     "text": [
      "Requirement already satisfied: scipy in c:\\users\\flavi_000\\appdata\\local\\programs\\python\\python312\\lib\\site-packages (1.14.1)Note: you may need to restart the kernel to use updated packages.\n",
      "\n",
      "Requirement already satisfied: numpy<2.3,>=1.23.5 in c:\\users\\flavi_000\\appdata\\local\\programs\\python\\python312\\lib\\site-packages (from scipy) (2.0.1)\n"
     ]
    }
   ],
   "source": [
    "pip install scipy"
   ]
  },
  {
   "cell_type": "code",
   "execution_count": 119,
   "metadata": {},
   "outputs": [],
   "source": [
    "import scipy.stats as stats"
   ]
  },
  {
   "attachments": {},
   "cell_type": "markdown",
   "metadata": {},
   "source": [
    "Teste \n",
    "A  idade média das pessoas com diabetes é diferente da idade média das pessoas sem diabetes? "
   ]
  },
  {
   "cell_type": "code",
   "execution_count": 138,
   "metadata": {},
   "outputs": [
    {
     "name": "stdout",
     "output_type": "stream",
     "text": [
      "A idade média das pessoas com diabetes é significativamente diferente da idade média das pessoas sem diabetes.\n"
     ]
    },
    {
     "data": {
      "image/png": "[encoded data removed]",
      "text/plain": [
       "<Figure size 640x480 with 1 Axes>"
      ]
     },
     "metadata": {},
     "output_type": "display_data"
    }
   ],
   "source": [
    "# Criando DF para cada situação:\n",
    "grupo_positivo = df[df['Diabetes'] == True]['Idade']\n",
    "grupo_negativo = df[df['Diabetes'] == False]['Idade']\n",
    "\n",
    "#Teste t:\n",
    "t_stat, p_value = stats.ttest_ind(grupo_positivo, grupo_negativo)\n",
    "\n",
    "# Interpretando o resultado\n",
    "if p_value < 0.05:\n",
    "    print(\"A idade média das pessoas com diabetes é significativamente diferente da idade média das pessoas sem diabetes.\")\n",
    "else:\n",
    "    print(\"Não há evidência suficiente para concluir que a idade média das pessoas com diabetes é diferente.\")\n",
    "\n",
    "#Gráfico\n",
    "plt.hist([grupo_positivo, grupo_negativo], bins=10, label=['Com Diabetes', 'Sem Diabetes'], alpha=0.5)\n",
    "plt.xlabel('Idade')\n",
    "plt.ylabel('Frequência')\n",
    "plt.title('Distribuição da Idade por Grupo')\n",
    "plt.legend()\n",
    "plt.show()\n"
   ]
  },
  {
   "attachments": {},
   "cell_type": "markdown",
   "metadata": {},
   "source": [
    "Testando a Hipótese 2\n",
    "Comparando a proporção de homens com diabetes e mulheres com diabetes"
   ]
  },
  {
   "cell_type": "code",
   "execution_count": 141,
   "metadata": {},
   "outputs": [
    {
     "name": "stdout",
     "output_type": "stream",
     "text": [
      "Teste T de diabetes\n",
      "Estatística T : 0.3559935645975703\n",
      "Valor P: 0.7218548413322965\n",
      "Existe uma associação significativa entre gênero e diabetes.\n"
     ]
    },
    {
     "data": {
      "image/png": "[encoded data removed]",
      "text/plain": [
       "<Figure size 640x480 with 1 Axes>"
      ]
     },
     "metadata": {},
     "output_type": "display_data"
    }
   ],
   "source": [
    "# Criando uma tabela de contingência\n",
    "tabela_contigencia = pd.crosstab(df['Gênero'], df['Diabetes'])\n",
    "\n",
    "# Realizando o teste de qui-quadrado\n",
    "chi2, p, dof, expected = stats.chi2_contingency(tabela_contigencia)\n",
    "\n",
    "# Teste t\n",
    "estatistica_t, valor_p = stats.ttest_ind(mulheres_diabetes['Idade'], homens_diabetes['Idade'])\n",
    "\n",
    "print(\"Teste T de diabetes\")\n",
    "print(f\"Estatística T : {estatistica_t}\")\n",
    "print(f\"Valor P: {valor_p}\")\n",
    "\n",
    "# Interpretando o resultado\n",
    "if p < 0.05:\n",
    "    print(\"Existe uma associação significativa entre gênero e diabetes.\")\n",
    "else:\n",
    "    print(\"Não há evidência suficiente para concluir que existe uma associação entre gênero e diabetes.\")\n",
    "\n",
    "#Gráfico utilizando o Seaborn para uma visualização mais elegante\n",
    "sns.countplot(x='Gênero', hue='Diabetes', data=df)\n",
    "plt.title('Associação entre Gênero e Diabetes')\n",
    "plt.xlabel('Gênero')\n",
    "plt.ylabel('Contagem')\n",
    "plt.legend(title='Diabetes')\n",
    "plt.show()"
   ]
  },
  {
   "attachments": {},
   "cell_type": "markdown",
   "metadata": {},
   "source": [
    "Amostra e SQL"
   ]
  },
  {
   "cell_type": "code",
   "execution_count": 147,
   "metadata": {},
   "outputs": [],
   "source": [
    "amostra2_df = df.sample(100)"
   ]
  },
  {
   "cell_type": "code",
   "execution_count": 153,
   "metadata": {},
   "outputs": [
    {
     "data": {
      "text/html": [
       "<div>\n",
       "<style scoped>\n",
       "    .dataframe tbody tr th:only-of-type {\n",
       "        vertical-align: middle;\n",
       "    }\n",
       "\n",
       "    .dataframe tbody tr th {\n",
       "        vertical-align: top;\n",
       "    }\n",
       "\n",
       "    .dataframe thead th {\n",
       "        text-align: right;\n",
       "    }\n",
       "</style>\n",
       "<table border=\"1\" class=\"dataframe\">\n",
       "  <thead>\n",
       "    <tr style=\"text-align: right;\">\n",
       "      <th></th>\n",
       "      <th>Id</th>\n",
       "      <th>Id_Paciente</th>\n",
       "      <th>Id_Consulta</th>\n",
       "      <th>Gênero</th>\n",
       "      <th>Dia_Agendamento</th>\n",
       "      <th>Dia_Consulta</th>\n",
       "      <th>Idade</th>\n",
       "      <th>Cidade</th>\n",
       "      <th>Hipertensão</th>\n",
       "      <th>Diabetes</th>\n",
       "      <th>Alcoolismo</th>\n",
       "      <th>Deficiente</th>\n",
       "      <th>Faixa_Etaria</th>\n",
       "    </tr>\n",
       "  </thead>\n",
       "  <tbody>\n",
       "    <tr>\n",
       "      <th>23284</th>\n",
       "      <td>23284</td>\n",
       "      <td>6.493464e+10</td>\n",
       "      <td>5710321</td>\n",
       "      <td>F</td>\n",
       "      <td>17/05/2016</td>\n",
       "      <td>17/05/2016</td>\n",
       "      <td>3</td>\n",
       "      <td>SANTA MARTHA</td>\n",
       "      <td>False</td>\n",
       "      <td>False</td>\n",
       "      <td>False</td>\n",
       "      <td>False</td>\n",
       "      <td>0-17</td>\n",
       "    </tr>\n",
       "    <tr>\n",
       "      <th>58351</th>\n",
       "      <td>58351</td>\n",
       "      <td>3.136369e+12</td>\n",
       "      <td>5719976</td>\n",
       "      <td>M</td>\n",
       "      <td>19/05/2016</td>\n",
       "      <td>20/05/2016</td>\n",
       "      <td>69</td>\n",
       "      <td>CARATOÍRA</td>\n",
       "      <td>True</td>\n",
       "      <td>False</td>\n",
       "      <td>False</td>\n",
       "      <td>False</td>\n",
       "      <td>60+</td>\n",
       "    </tr>\n",
       "    <tr>\n",
       "      <th>45950</th>\n",
       "      <td>45950</td>\n",
       "      <td>3.424769e+14</td>\n",
       "      <td>5608479</td>\n",
       "      <td>M</td>\n",
       "      <td>20/04/2016</td>\n",
       "      <td>11/05/2016</td>\n",
       "      <td>70</td>\n",
       "      <td>MARUÍPE</td>\n",
       "      <td>False</td>\n",
       "      <td>False</td>\n",
       "      <td>False</td>\n",
       "      <td>False</td>\n",
       "      <td>60+</td>\n",
       "    </tr>\n",
       "    <tr>\n",
       "      <th>26681</th>\n",
       "      <td>26681</td>\n",
       "      <td>3.112342e+13</td>\n",
       "      <td>5716702</td>\n",
       "      <td>F</td>\n",
       "      <td>19/05/2016</td>\n",
       "      <td>19/05/2016</td>\n",
       "      <td>60</td>\n",
       "      <td>SÃO CRISTÓVÃO</td>\n",
       "      <td>True</td>\n",
       "      <td>True</td>\n",
       "      <td>False</td>\n",
       "      <td>False</td>\n",
       "      <td>45-59</td>\n",
       "    </tr>\n",
       "    <tr>\n",
       "      <th>1040</th>\n",
       "      <td>1040</td>\n",
       "      <td>4.792420e+13</td>\n",
       "      <td>5595465</td>\n",
       "      <td>M</td>\n",
       "      <td>18/04/2016</td>\n",
       "      <td>29/04/2016</td>\n",
       "      <td>2</td>\n",
       "      <td>SÃO JOSÉ</td>\n",
       "      <td>False</td>\n",
       "      <td>False</td>\n",
       "      <td>False</td>\n",
       "      <td>False</td>\n",
       "      <td>0-17</td>\n",
       "    </tr>\n",
       "  </tbody>\n",
       "</table>\n",
       "</div>"
      ],
      "text/plain": [
       "          Id   Id_Paciente  Id_Consulta Gênero Dia_Agendamento Dia_Consulta  \\\n",
       "23284  23284  6.493464e+10      5710321      F      17/05/2016   17/05/2016   \n",
       "58351  58351  3.136369e+12      5719976      M      19/05/2016   20/05/2016   \n",
       "45950  45950  3.424769e+14      5608479      M      20/04/2016   11/05/2016   \n",
       "26681  26681  3.112342e+13      5716702      F      19/05/2016   19/05/2016   \n",
       "1040    1040  4.792420e+13      5595465      M      18/04/2016   29/04/2016   \n",
       "\n",
       "       Idade         Cidade  Hipertensão  Diabetes  Alcoolismo  Deficiente  \\\n",
       "23284      3   SANTA MARTHA        False     False       False       False   \n",
       "58351     69      CARATOÍRA         True     False       False       False   \n",
       "45950     70        MARUÍPE        False     False       False       False   \n",
       "26681     60  SÃO CRISTÓVÃO         True      True       False       False   \n",
       "1040       2       SÃO JOSÉ        False     False       False       False   \n",
       "\n",
       "      Faixa_Etaria  \n",
       "23284         0-17  \n",
       "58351          60+  \n",
       "45950          60+  \n",
       "26681        45-59  \n",
       "1040          0-17  "
      ]
     },
     "execution_count": 153,
     "metadata": {},
     "output_type": "execute_result"
    }
   ],
   "source": [
    "amostra2_df.head()"
   ]
  },
  {
   "cell_type": "code",
   "execution_count": 149,
   "metadata": {},
   "outputs": [
    {
     "data": {
      "text/plain": [
       "(100, 13)"
      ]
     },
     "execution_count": 149,
     "metadata": {},
     "output_type": "execute_result"
    }
   ],
   "source": [
    "amostra2_df.shape #conferindo o número de linhas e colunas"
   ]
  },
  {
   "attachments": {},
   "cell_type": "markdown",
   "metadata": {},
   "source": [
    "SQLITE3"
   ]
  },
  {
   "cell_type": "code",
   "execution_count": 155,
   "metadata": {},
   "outputs": [],
   "source": [
    "import sqlite3"
   ]
  },
  {
   "cell_type": "code",
   "execution_count": 159,
   "metadata": {},
   "outputs": [
    {
     "name": "stdout",
     "output_type": "stream",
     "text": [
      "  Gênero  Hipertensão\n",
      "0      F           67\n",
      "1      M           33\n"
     ]
    }
   ],
   "source": [
    "#Manipular uma consulta (Carrie) de SQL no pandas\n",
    "# conexão \n",
    "conn = sqlite3.connect(':memory:')\n",
    "\n",
    "#escrever o df em uma tabela sql\n",
    "amostra2_df.to_sql('amostra2_df', conn, index=False, if_exists='replace') \n",
    "\n",
    "#executar a consulta \n",
    "query_sql = \"\"\"\n",
    "SELECT Gênero, COUNT(Hipertensão) AS Hipertensão\n",
    "FROM amostra2_df\n",
    "GROUP BY Gênero;\n",
    "\"\"\"\n",
    "\n",
    "contagem_por_gen = pd.read_sql_query(query_sql, conn) #nova variável que irá ler em pandas o SQL conn = conectar\n",
    "print(contagem_por_gen)\n",
    "\n",
    "#fechar a conexão\n",
    "conn.close() #fechar a coneção"
   ]
  }
 ],
 "metadata": {
  "kernelspec": {
   "display_name": "Python 3",
   "language": "python",
   "name": "python3"
  },
  "language_info": {
   "codemirror_mode": {
    "name": "ipython",
    "version": 3
   },
   "file_extension": ".py",
   "mimetype": "text/x-python",
   "name": "python",
   "nbconvert_exporter": "python",
   "pygments_lexer": "ipython3",
   "version": "3.12.5"
  },
  "orig_nbformat": 4
 },
 "nbformat": 4,
 "nbformat_minor": 2
}
