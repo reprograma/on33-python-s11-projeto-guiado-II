{
 "cells": [
  {
   "cell_type": "code",
   "execution_count": 7,
   "metadata": {},
   "outputs": [
    {
     "name": "stdout",
     "output_type": "stream",
     "text": [
      "Readers of ebook 50-60 years old\n",
      "    Ebook readers\n",
      "0            186\n",
      "\n",
      " No Readers of ebook 50-60 years old\n",
      "    Ebook readers\n",
      "0            489\n",
      "Readers of ebook 18-30 years old\n",
      "    Ebook readers\n",
      "0            181\n",
      "\n",
      "No Readers of ebook 18-30 years old\n",
      "    Ebook readers\n",
      "0            402\n"
     ]
    }
   ],
   "source": [
    "import pandas as pd\n",
    "import sqlite3\n",
    "\n",
    "#importação dataframe e renomeando colunas\n",
    "df = pd.read_csv('./reading_habits.csv')\n",
    "df.rename(columns={'Read any e-books during last 12months?': 'Ebook_readers', 'Age Range': 'Age_Range'}, inplace=True)\n",
    "\n",
    "# conexão \n",
    "conn = sqlite3.connect('reading_habits.db')\n",
    "\n",
    "#escrever o df em uma tabela sql\n",
    "df.to_sql('reading_habits', conn, index=False, if_exists='replace') \n",
    "\n",
    "#executar a consulta \n",
    "query_sql = \"\"\"\n",
    "SELECT COUNT(Ebook_readers) AS 'Ebook readers'\n",
    "FROM reading_habits\n",
    "WHERE Ebook_readers = 'Yes' and Age >= 60\n",
    "\"\"\"\n",
    "\n",
    "query_sql2 = \"\"\"\n",
    "SELECT COUNT(Ebook_readers) AS 'Ebook readers'\n",
    "FROM reading_habits\n",
    "WHERE Ebook_readers = 'No' and Age >= 60\n",
    "\"\"\"\n",
    "\n",
    "query_sql3 = \"\"\"\n",
    "SELECT COUNT(Ebook_readers) AS 'Ebook readers'\n",
    "FROM reading_habits\n",
    "WHERE Ebook_readers = 'Yes' and Age <= 30\n",
    "\"\"\"\n",
    "query_sql4 = \"\"\"\n",
    "SELECT COUNT(Ebook_readers) AS 'Ebook readers'\n",
    "FROM reading_habits\n",
    "WHERE Ebook_readers = 'No' and Age <= 30\n",
    "\"\"\"\n",
    "\n",
    "Readers_60_age = pd.read_sql_query(query_sql, conn)\n",
    "print('Readers of ebook 50-60 years old\\n', Readers_60_age)\n",
    "\n",
    "No_Readers_60_age = pd.read_sql_query(query_sql2,  conn)\n",
    "print('\\n No Readers of ebook 50-60 years old\\n',No_Readers_60_age)\n",
    "\n",
    "Readers_20_age = pd.read_sql_query(query_sql3, conn)\n",
    "print('Readers of ebook 18-30 years old\\n', Readers_20_age)\n",
    "\n",
    "No_Readers_20_age = pd.read_sql_query(query_sql4,  conn)\n",
    "print('\\nNo Readers of ebook 18-30 years old\\n',No_Readers_20_age)\n",
    "\n",
    "#fechar a conexão\n",
    "conn.close()"
   ]
  }
 ],
 "metadata": {
  "kernelspec": {
   "display_name": "Python 3",
   "language": "python",
   "name": "python3"
  },
  "language_info": {
   "codemirror_mode": {
    "name": "ipython",
    "version": 3
   },
   "file_extension": ".py",
   "mimetype": "text/x-python",
   "name": "python",
   "nbconvert_exporter": "python",
   "pygments_lexer": "ipython3",
   "version": "3.12.4"
  }
 },
 "nbformat": 4,
 "nbformat_minor": 2
}
